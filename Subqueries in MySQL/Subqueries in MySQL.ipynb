{
 "cells": [
  {
   "cell_type": "markdown",
   "id": "c4daebf7-57a9-4e91-b359-286365995c6d",
   "metadata": {},
   "source": [
    "Subqueries in MySQL\n",
    "\n",
    " A subquery is a query nested inside another SQL query.\n",
    " It helps you perform complex filtering, calculations, or temporary data shaping by\n",
    " breaking down the logic into smaller steps.\n",
    "     \n",
    " You can use subqueries in SELECT , FROM , or WHERE clauses."
   ]
  },
  {
   "cell_type": "markdown",
   "id": "2481b9c7-6a26-47eb-afc7-49df17eb8d1c",
   "metadata": {},
   "source": [
    " What is a Subquery?\n",
    "\n",
    " A subquery is enclosed in parentheses and returns data to be used by the outer query.\n",
    " It can return: - A single value (scalar) - A row - A full table"
   ]
  },
  {
   "cell_type": "markdown",
   "id": "0eb057e4-c174-4c98-be52-3dbbf69a8aee",
   "metadata": {},
   "source": [
    " Subquery in the WHERE Clause\n",
    "\n",
    "Example: Employees who earn more than average\n",
    " SELECT name, salary\n",
    " FROM employees\n",
    " WHERE salary > (\n",
    "    SELECT AVG(salary)\n",
    "    FROM employees\n",
    " );\n",
    "\n",
    "We are telling MySQL: “First calculate the average salary, then return employees\n",
    " with salaries greater than that.”\n"
   ]
  },
  {
   "cell_type": "markdown",
   "id": "a835048c-eaa9-455f-848d-d7a51a329e69",
   "metadata": {},
   "source": [
    "Subquery in the FROM Clause\n",
    "\n",
    " Example: Department-wise average salary above 50,000\n",
    "\n",
    " SELECT department, avg_salary\n",
    " FROM (\n",
    "    SELECT department, AVG(salary) AS avg_salary\n",
    "    FROM employees\n",
    "    GROUP BY department\n",
    " ) AS dept_avg\n",
    " WHERE avg_salary > 50000;\n",
    "\n",
    "We are telling MySQL: “Create a temporary table of average salaries by\n",
    " department, then filter departments where the average is above 50,000.”"
   ]
  },
  {
   "cell_type": "markdown",
   "id": "8850124b-6887-4256-88a7-a9f45cd8d5d4",
   "metadata": {},
   "source": [
    "Subquery in the SELECT Clause\n",
    "\n",
    " Example: Count of projects per employee\n",
    "\n",
    " SELECT name,\n",
    " (SELECT COUNT(*) FROM projects WHERE projects.employee_id = employees.id) AS \n",
    "project_count\n",
    " FROM employees;\n",
    "\n",
    " This gives each employee along with the number of projects they are assigned to."
   ]
  },
  {
   "cell_type": "markdown",
   "id": "45d8d6a6-a7f1-46a3-9d51-e5b388b7a17c",
   "metadata": {},
   "source": [
    "Correlated Subqueries\n",
    " A correlated subquery depends on the outer query. It runs once for each row in\n",
    " the outer query.\n",
    "\n",
    "Example: Employee earning more than department’s average\n",
    "                                                               \n",
    " SELECT name, department, salary\n",
    " FROM employees e\n",
    " WHERE salary > (\n",
    "    SELECT AVG(salary)\n",
    "    FROM employees\n",
    "    WHERE department = e.department\n",
    " );\n",
    "\n",
    " We are telling MySQL: “For each employee, compare their salary with the average\n",
    " salary of their department.”"
   ]
  },
  {
   "cell_type": "markdown",
   "id": "65b1018b-6c0c-43f3-a51d-d848fbe5800a",
   "metadata": {},
   "source": [
    " Types of Subqueries\n",
    "\n",
    "   Type                                                              Description\n",
    " Scalar Subquery                                                  Returns a single value\n",
    " Row Subquery                                                Returns one row with multiple columns\n",
    " Table Subquery                                                Returns multiple rows and columns\n",
    " Correlated Subquery                                         Refers to the outer query inside the subquery\n",
    " "
   ]
  },
  {
   "cell_type": "markdown",
   "id": "2664d203-42a5-4f73-8b19-b3d9e8875e4b",
   "metadata": {},
   "source": [
    "When to Use Subqueries\n",
    "\n",
    ".  When your logic depends on calculated values (like averages or counts)\n",
    ".  When you need to filter based on dynamic conditions\n",
    ".  When you’re breaking down complex queries for readability\n"
   ]
  },
  {
   "cell_type": "markdown",
   "id": "297b1c00-438d-4d6f-9c3f-a56fe5579717",
   "metadata": {},
   "source": [
    "When to Avoid Subqueries\n",
    "\n",
    " . When the same result can be achieved with a JOIN, which is often faster\n",
    " . When the subquery is being executed repeatedly for every row (correlated\n",
    "   subqueries on large tables)"
   ]
  },
  {
   "cell_type": "markdown",
   "id": "9eba7f7f-d64e-451d-b338-45fec106f754",
   "metadata": {},
   "source": [
    " Summary:\n",
    "\n",
    "Clause                                                       Use Case\n",
    " WHERE                                        Filter based on the result of a subquery\n",
    " FROM                                               Use a subquery as a derived table\n",
    " SELECT                                            Add related calculations inline\n",
    "\n",
    " Subqueries are powerful for solving multi-step problems and isolating logic, but be\n",
    " mindful of performance when working with large data sets."
   ]
  }
 ],
 "metadata": {
  "kernelspec": {
   "display_name": "Python [conda env:base] *",
   "language": "python",
   "name": "conda-base-py"
  },
  "language_info": {
   "codemirror_mode": {
    "name": "ipython",
    "version": 3
   },
   "file_extension": ".py",
   "mimetype": "text/x-python",
   "name": "python",
   "nbconvert_exporter": "python",
   "pygments_lexer": "ipython3",
   "version": "3.12.7"
  }
 },
 "nbformat": 4,
 "nbformat_minor": 5
}
