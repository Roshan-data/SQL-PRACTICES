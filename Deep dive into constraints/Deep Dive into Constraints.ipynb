{
 "cells": [
  {
   "cell_type": "markdown",
   "id": "06259483-c110-4e3c-b34c-a85874f8db1c",
   "metadata": {},
   "source": [
    " Deep Dive into Constraints\n",
    " \n",
    " Constraints in SQL are rules applied to table columns to enforce data integrity,\n",
    " consistency, and validity. They restrict the type of data that can be inserted into a\n",
    " table and help prevent invalid or duplicate entries."
   ]
  },
  {
   "cell_type": "markdown",
   "id": "efa6f367-9ca5-49d5-bbbb-889e199cb10c",
   "metadata": {},
   "source": [
    " Why Use Constraints?\n",
    "\n",
    "• Ensure data quality and reliability\n",
    "• Prevent invalid, duplicate, or null data\n",
    "• Maintain business rules directly in the database layer\n"
   ]
  },
  {
   "cell_type": "markdown",
   "id": "91ca0285-b5a7-4f67-9abb-9987d66e9a19",
   "metadata": {},
   "source": [
    " 1. NOT NULL Constraint\n",
    "\n",
    " Ensures that a column cannot contain NULL values.  \n",
    "\n",
    "CREATE TABLE employees (\n",
    " id INT NOT NULL,\n",
    "    name VARCHAR(100) NOT NULL\n",
    " );\n",
    "\n",
    "  Use Case:\n",
    " Make sure critical fields like id , name , or email are always filled"
   ]
  },
  {
   "cell_type": "markdown",
   "id": "2a193a9b-d058-43de-b8e8-ca5611e107ec",
   "metadata": {},
   "source": [
    "2. UNIQUE Constraint\n",
    "\n",
    "Ensures that all values in a column are distinct (no duplicates).\n",
    "\n",
    " CREATE TABLE users (\n",
    "    username VARCHAR(50) UNIQUE,\n",
    "    email VARCHAR(100) UNIQUE\n",
    " );\n",
    "\n",
    "Use Case:\n",
    "\n",
    " Prevent duplicate usernames or email addresses.\n",
    " Note: A table can have multiple UNIQUE constraints, but only one PRIMARY\n",
    " KEY."
   ]
  },
  {
   "cell_type": "markdown",
   "id": "9620855f-0cf0-4438-94ae-28a8c6d3c57c",
   "metadata": {},
   "source": [
    " 3. DEFAULT Constraint\n",
    " Sets a default value for a column if none is provided during insert.\n",
    "     \n",
    " CREATE TABLE products (\n",
    "    name VARCHAR(100),\n",
    "    status VARCHAR(20) DEFAULT 'in_stock'\n",
    " );\n",
    "\n",
    "Use Case:\n",
    " Auto-fill common values to reduce data entry effort and prevent missing data\n",
    "     "
   ]
  },
  {
   "cell_type": "markdown",
   "id": "11c229d8-a886-4993-be6a-ea5c1bc7503b",
   "metadata": {},
   "source": [
    "4. CHECK Constraint\n",
    " Validates that values in a column meet a specific condition.\n",
    "\n",
    "CREATE TABLE accounts (\n",
    " id INT,\n",
    "    balance DECIMAL(10,2) CHECK (balance >= 0)\n",
    " );\n",
    "\n",
    "Use Case:\n",
    " Enforce business rules such as non-negative balances or valid age ranges.\n",
    " Note: MySQL versions before 8.0 parsed MySQL 8.0 onwards, CHECK but did not enforce it. From CHECK constraints are enforced."
   ]
  },
  {
   "cell_type": "markdown",
   "id": "c79d34c9-7812-4b7a-9b42-78eb5bc42ad0",
   "metadata": {},
   "source": [
    "5. Naming Constraints\n",
    "\n",
    " You can give explicit names to constraints. This makes them easier to reference,\n",
    " especially when altering or dropping them later.\n",
    "     \n",
    " CREATE TABLE students (\n",
    "    roll_no INT PRIMARY KEY,\n",
    "    age INT CONSTRAINT chk_age CHECK (age >= 5),\n",
    "    email VARCHAR(100) UNIQUE\n",
    " );\n"
   ]
  },
  {
   "cell_type": "markdown",
   "id": "07d9fa24-24cc-432f-9879-d20a89cd6569",
   "metadata": {},
   "source": [
    "Benefits of Named Constraints:\n",
    " • Improves clarity and debugging\n",
    "• Useful when using ALTER TABLE to drop constraints\n"
   ]
  },
  {
   "cell_type": "markdown",
   "id": "dc33ab4e-35c8-4f96-845d-ce3b4dec9456",
   "metadata": {},
   "source": [
    "6. Constraint Recap Table\n",
    "\n",
    " Constraint                        Purpose                          Enforced By MySQL                        Custom Name Support\n",
    " NOT NULL                     Disallow null values                      Yes                                       Yes\n",
    " UNIQUE                       Disallow duplicate values                 Yes                                       Yes\n",
    " DEFAULT                   Set default value if none given              Yes                                       No\n",
    " CHECK                        Enforce value conditions                Yes (MySQL 8.0+)                            Yes"
   ]
  },
  {
   "cell_type": "markdown",
   "id": "e64a077a-2067-4b38-a4de-62bf8f159fcb",
   "metadata": {},
   "source": [
    "Best Practices\n",
    " •  Always name important constraints for easier maintenance.\n",
    " •  Prefer constraints over application-side validation for core rules.\n",
    " •  Use constraints to enforce critical rules in the database layer.\n",
    " •  Test CHECK constraints carefully to ensure compatibility and enforcement in\n",
    "    your MySQL version.\n",
    "                                                    "
   ]
  }
 ],
 "metadata": {
  "kernelspec": {
   "display_name": "Python [conda env:base] *",
   "language": "python",
   "name": "conda-base-py"
  },
  "language_info": {
   "codemirror_mode": {
    "name": "ipython",
    "version": 3
   },
   "file_extension": ".py",
   "mimetype": "text/x-python",
   "name": "python",
   "nbconvert_exporter": "python",
   "pygments_lexer": "ipython3",
   "version": "3.12.7"
  }
 },
 "nbformat": 4,
 "nbformat_minor": 5
}
