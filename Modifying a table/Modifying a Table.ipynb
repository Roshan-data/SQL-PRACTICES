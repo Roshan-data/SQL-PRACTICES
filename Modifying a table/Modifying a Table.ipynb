{
 "cells": [
  {
   "cell_type": "markdown",
   "id": "bb8ff0bf-a8e2-4486-9595-6941aaf083a8",
   "metadata": {},
   "source": [
    "Modifying a Table in MySQL\n",
    "\n",
    " As your application grows or requirements change, you may need to make\n",
    " changes to existing tables. MySQL provides several ALTER and related statements for such modifications."
   ]
  },
  {
   "cell_type": "markdown",
   "id": "101d42fd-5e3b-4f05-b45a-30653ca90397",
   "metadata": {},
   "source": [
    "Renaming a Table\n",
    "\n",
    " Use the RENAME TABLE command to change the name of an existing table.\n",
    "     \n",
    " * RENAME TABLE old_table_name TO new_table_name;"
   ]
  },
  {
   "cell_type": "markdown",
   "id": "4de3dc21-6759-400c-864f-b872ee23d2ff",
   "metadata": {},
   "source": [
    " Dropping a Table\n",
    "\n",
    " To permanently delete a table and all of its data:\n",
    "\n",
    " * DROP TABLE table_name;"
   ]
  },
  {
   "cell_type": "markdown",
   "id": "3397980f-3d7c-4e6b-b6cd-388ad501942f",
   "metadata": {},
   "source": [
    " Renaming a Column\n",
    "\n",
    " To rename a column in an existing table:\n",
    "\n",
    " * ALTER TABLE table_name RENAME COLUMN old_column_name TO new_column_name;"
   ]
  },
  {
   "cell_type": "markdown",
   "id": "b33a5cb5-b960-47c9-9d2c-4d2431004968",
   "metadata": {},
   "source": [
    " Dropping a Column\n",
    " \n",
    " To remove a column from a table:\n",
    "\n",
    " * ALTER TABLE table_name DROP COLUMN column_name;"
   ]
  },
  {
   "cell_type": "markdown",
   "id": "61c649da-45b9-4e7e-887d-cc465e55c5e9",
   "metadata": {},
   "source": [
    " Adding a Column\n",
    "\n",
    " To add a new column to an existing table:\n",
    "\n",
    "* ALTER TABLE table_name ADD COLUMN column_name datatype constraints;\n",
    "\n",
    " Example:\n",
    "\n",
    "* ALTER TABLE students ADD COLUMN gender VARCHAR(10);"
   ]
  },
  {
   "cell_type": "markdown",
   "id": "6b4288ee-f817-4a66-a121-7fbad320ac65",
   "metadata": {},
   "source": [
    "Modifying a Column\n",
    "\n",
    " To change the data type or constraints of an existing column:\n",
    "\n",
    " * ALTER TABLE table_name MODIFY COLUMN column_name new_datatype new_constraints;\n",
    "   \n",
    "  Example:\n",
    "  \n",
    " * ALTER TABLE students MODIFY COLUMN name VARCHAR(150) NOT NULL;"
   ]
  },
  {
   "cell_type": "markdown",
   "id": "6763c51a-0e34-4d9b-aaa8-4c081fc1822b",
   "metadata": {},
   "source": [
    " Changing the Order of Columns\n",
    "\n",
    " To change the order of columns in a table, you can use the MODIFY command with the \n",
    " AFTER keyword:\n",
    "\n",
    " * ALTER TABLE table_name MODIFY COLUMN column_name datatype AFTER \n",
    "   another_column_name;"
   ]
  },
  {
   "cell_type": "markdown",
   "id": "b0c04740-5220-4d44-b638-115d844b929b",
   "metadata": {},
   "source": [
    " Always review changes on production databases carefully. Use tools like DESCRIBE\n",
    " table_name to verify structure before and after modifications."
   ]
  }
 ],
 "metadata": {
  "kernelspec": {
   "display_name": "Python [conda env:base] *",
   "language": "python",
   "name": "conda-base-py"
  },
  "language_info": {
   "codemirror_mode": {
    "name": "ipython",
    "version": 3
   },
   "file_extension": ".py",
   "mimetype": "text/x-python",
   "name": "python",
   "nbconvert_exporter": "python",
   "pygments_lexer": "ipython3",
   "version": "3.12.7"
  }
 },
 "nbformat": 4,
 "nbformat_minor": 5
}
