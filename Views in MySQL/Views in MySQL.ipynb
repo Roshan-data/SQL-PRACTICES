{
 "cells": [
  {
   "cell_type": "markdown",
   "id": "a3fe19c6-5771-468a-9347-3722c819a0bf",
   "metadata": {},
   "source": [
    " MySQL Views\n",
    "\n",
    " A View in MySQL is like a virtual table. It doesn’t store data by itself but instead \n",
    " shows data from one or more tables through a saved SQL query.\n",
    "\n",
    " You can use a view just like a regular table: SELECT from it, filter it, join it, etc."
   ]
  },
  {
   "cell_type": "markdown",
   "id": "67d4e4df-7b2a-4c77-b723-324a5c3a20bb",
   "metadata": {},
   "source": [
    " Why Use Views?\n",
    "\n",
    "• To simplify complex queries by giving them a name.\n",
    "• To hide sensitive columns from users.\n",
    "• To show only specific rows/columns from a table.\n",
    "• To reuse common query logic across your app or reports.\n"
   ]
  },
  {
   "cell_type": "markdown",
   "id": "7b0bf52e-7086-4385-8c37-b0a0086c3755",
   "metadata": {},
   "source": [
    " Creating a View\n",
    "\n",
    " Let’s say you have an employees table with lots of details, but you only want to\n",
    " show public employee info (name, department, and salary).\n",
    "\n",
    " CREATE VIEW public_employees AS\n",
    " SELECT name, department, salary\n",
    " FROM employees;\n",
    "\n",
    " You’re telling MySQL:\n",
    " “Create a view called and salary from the public_employees that shows only name, department, employees table.”\n"
   ]
  },
  {
   "cell_type": "markdown",
   "id": "821cd4d6-58b1-46e8-970e-623c214c7066",
   "metadata": {},
   "source": [
    "Using a View\n",
    "\n",
    " Now you can query it like a normal table:\n",
    " SELECT * FROM public_employees;\n",
    "\n",
    " Or even apply filters:\n",
    "\n",
    " SELECT * FROM public_employees\n",
    " WHERE department = 'IT';"
   ]
  },
  {
   "cell_type": "markdown",
   "id": "4ae205c3-96c9-47e6-948e-408aa6e3135e",
   "metadata": {},
   "source": [
    "Updating a View\n",
    "\n",
    " You can replace a view like this:\n",
    "\n",
    " CREATE OR REPLACE VIEW public_employees AS\n",
    " SELECT name, department\n",
    " FROM employees;"
   ]
  },
  {
   "cell_type": "markdown",
   "id": "a3b4bb9e-a5c0-431f-bb5f-06091f74bbed",
   "metadata": {},
   "source": [
    " Dropping (Deleting) a View\n",
    "\n",
    " DROP VIEW public_employees;\n",
    "\n",
    " This removes the view from the database."
   ]
  },
  {
   "cell_type": "markdown",
   "id": "31835945-60a6-470d-b467-c2563c4312c4",
   "metadata": {},
   "source": [
    " Notes \n",
    "\n",
    " • Views don’t store data. If the underlying table changes, the view reflects that\n",
    "    automatically.\n",
    " • Not all views are updatable. Simple views usually are (like those selecting\n",
    "  from one table without grouping or joins), but complex ones may not allow INSERT, UPDATE, or DELETE .\n",
    " • Views can make your queries cleaner and easier to maintain."
   ]
  },
  {
   "cell_type": "markdown",
   "id": "50e4eebd-63c6-4905-bbfe-cb5647e7a193",
   "metadata": {},
   "source": [
    "Example Use Case\n",
    "\n",
    " You have this query used 5 times across your app:\n",
    "\n",
    " SELECT customer_id, name, total_orders, status\n",
    " FROM customers\n",
    " WHERE status = 'active' AND total_orders > 5;"
   ]
  },
  {
   "cell_type": "markdown",
   "id": "d4ad0bce-9745-4286-858a-76924ec9bcff",
   "metadata": {},
   "source": [
    " Instead of repeating it, just create a view:\n",
    "\n",
    " CREATE VIEW top_customers AS\n",
    " SELECT customer_id, name, total_orders, status\n",
    " FROM customers\n",
    " WHERE status = 'active' AND total_orders > 5;"
   ]
  },
  {
   "cell_type": "markdown",
   "id": "c4f94281-611b-4acc-a723-f84ba40cb60c",
   "metadata": {},
   "source": [
    " Now just do:\n",
    " SELECT * FROM top_customers;\n"
   ]
  }
 ],
 "metadata": {
  "kernelspec": {
   "display_name": "Python [conda env:base] *",
   "language": "python",
   "name": "conda-base-py"
  },
  "language_info": {
   "codemirror_mode": {
    "name": "ipython",
    "version": 3
   },
   "file_extension": ".py",
   "mimetype": "text/x-python",
   "name": "python",
   "nbconvert_exporter": "python",
   "pygments_lexer": "ipython3",
   "version": "3.12.7"
  }
 },
 "nbformat": 4,
 "nbformat_minor": 5
}
