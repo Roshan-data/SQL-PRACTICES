{
 "cells": [
  {
   "cell_type": "markdown",
   "id": "bcc566fa-af13-4da2-963f-8863805c5ec2",
   "metadata": {},
   "source": [
    "MySQL Foreign Key\n",
    "\n",
    " This guide demonstrates how to create a database, define tables, and use foreign\n",
    " keys to establish relationships between them."
   ]
  },
  {
   "cell_type": "code",
   "execution_count": null,
   "id": "aed3cfc6-dd27-4ae4-af01-c52c5049d2f1",
   "metadata": {},
   "outputs": [],
   "source": [
    "1. Create a Database\n",
    "\n",
    " CREATE DATABASE school;\n",
    " USE school;"
   ]
  },
  {
   "cell_type": "markdown",
   "id": "c5ce8ba0-6060-4dab-a9ba-4edc0050fbe1",
   "metadata": {},
   "source": [
    " 2. Create Tables\n",
    "\n",
    " We’ll create two tables:\n",
    "• students\n",
    "• classes\n",
    "\n",
    " Each student will belong to a class, creating a one-to-many relationship (one class\n",
    " has many students)."
   ]
  },
  {
   "cell_type": "markdown",
   "id": "e88e116e-7792-4c47-b854-929514023c4f",
   "metadata": {},
   "source": [
    " Create classes Table\n",
    "\n",
    " CREATE TABLE classes (\n",
    "    class_id INT AUTO_INCREMENT PRIMARY KEY,\n",
    "    class_name VARCHAR(50) NOT NULL\n",
    " );\n",
    "\n",
    "Create students Table\n",
    " CREATE TABLE students (\n",
    "    student_id INT AUTO_INCREMENT PRIMARY KEY,\n",
    "    student_name VARCHAR(100) NOT NULL,\n",
    "    class_id INT,\n",
    "    FOREIGN KEY (class_id) REFERENCES classes(class_id)\n",
    "        ON UPDATE CASCADE\n",
    "        ON DELETE SET NULL\n",
    " );"
   ]
  },
  {
   "cell_type": "markdown",
   "id": "3fcac4c0-2452-4643-973f-a96d7bc0472f",
   "metadata": {},
   "source": [
    "3. Insert Sample Data\n",
    "\n",
    " Insert into classes\n",
    " INSERT INTO classes (class_name) VALUES ('Mathematics'), ('Science'), ('History');\n",
    "\n",
    " Insert into students\n",
    " INSERT INTO students (student_name, class_id) VALUES \n",
    "('Alice', 1),\n",
    " ('Bob', 2),\n",
    " ('Charlie', 1);\n"
   ]
  },
  {
   "cell_type": "markdown",
   "id": "8eb2bf90-a346-4510-815b-63c4ae08f7b2",
   "metadata": {},
   "source": [
    " 4. Explanation of Foreign Key Behavior\n",
    "\n",
    " In the students table\n",
    "\n",
    "•  class_id is a foreign key.\n",
    "• It references class_id in the classes table.\n",
    "• ON UPDATE CASCADE : If a class ID changes, it will update automatically in the students table.\n",
    "• ON DELETE SET NULL : If a class is deleted, the related students will have class_id set to NULL .\n"
   ]
  },
  {
   "cell_type": "markdown",
   "id": "df78fac9-2ccd-4ded-8e70-d3737242f8bf",
   "metadata": {},
   "source": [
    " 5. View the Relationships\n",
    "\n",
    " To check the foreign key constraints:\n",
    " SHOW CREATE TABLE students;\n",
    "\n",
    " To see all foreign keys in the current database:\n",
    "\n",
    " SELECT \n",
    "    table_name,\n",
    "    column_name,\n",
    "    constraint_name,\n",
    "    referenced_table_name,\n",
    "    referenced_column_name\n",
    " FROM \n",
    "    information_schema.key_column_usage\n",
    " WHERE \n",
    "    referenced_table_name IS NOT NULL\n",
    "    AND table_schema = 'school';"
   ]
  },
  {
   "cell_type": "markdown",
   "id": "578e6654-8f23-4473-8783-9ad841e7e6b5",
   "metadata": {},
   "source": [
    "Understanding ON UPDATE CASCADE and ON DELETE SET NULL\n",
    "\n",
    " When you define a foreign key in MySQL, you can specify what should happen to\n",
    " the child table when the parent table is updated or deleted. These are called \n",
    " referential actions.\n",
    "\n",
    "1. ON UPDATE CASCADE\n",
    "\n",
    "Definition: If the value in the parent table (i.e., the referenced column) is updated,\n",
    " the corresponding foreign key value in the child table is automatically updated to\n",
    " match.\n",
    "\n",
    " Example: Suppose we update a class_id in the classes table:\n",
    "\n",
    " UPDATE classes SET class_id = 10 WHERE class_id = 1;\n",
    "\n",
    " Then all students in the students table whose class_id was 1 will automatically be updated to 10 .\n",
    "\n",
    "\n",
    "2. ON DELETE SET NULL\n",
    "\n",
    " Definition: If a row in the parent table is deleted, the foreign key in the child table\n",
    " will be set to NULL for all matching rows.\n",
    "                    \n",
    " Example: If we delete a class from the classes table:\n",
    "\n",
    "  DELETE FROM classes WHERE class_id = 2;\n",
    "\n",
    " Then all students in the students table who were in class 2 will have their class_id set to NULL , \n",
    " indicating that they are no longer assigned to a class."
   ]
  },
  {
   "cell_type": "markdown",
   "id": "b1cbb890-1737-48c6-aeb7-58e6ec0a697d",
   "metadata": {},
   "source": [
    "Why Use These Options?\n",
    " • ON UPDATE CASCADE is useful when the primary key of the parent table might change (rare but possible)\n",
    " • ON DELETE SET NULL is helpful when you want to preserve child records but indicate that the relationship has been broken.\n"
   ]
  },
  {
   "cell_type": "markdown",
   "id": "6d037fce-bfa3-42dc-9fc4-71e728806d7e",
   "metadata": {},
   "source": [
    "Alternatives\n",
    "\n",
    "• ON DELETE CASCADE : Deletes the child rows when the parent row is deleted.\n",
    "• ON DELETE RESTRICT : Prevents deletion if any child rows exist.\n",
    "• ON DELETE NO ACTION : Same as RESTRICT in MySQL.\n",
    "• ON DELETE SET DEFAULT : Not supported in MySQL (but available in some\n",
    " other DBMSs).\n"
   ]
  }
 ],
 "metadata": {
  "kernelspec": {
   "display_name": "Python [conda env:base] *",
   "language": "python",
   "name": "conda-base-py"
  },
  "language_info": {
   "codemirror_mode": {
    "name": "ipython",
    "version": 3
   },
   "file_extension": ".py",
   "mimetype": "text/x-python",
   "name": "python",
   "nbconvert_exporter": "python",
   "pygments_lexer": "ipython3",
   "version": "3.12.7"
  }
 },
 "nbformat": 4,
 "nbformat_minor": 5
}
