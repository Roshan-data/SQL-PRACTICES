{
 "cells": [
  {
   "cell_type": "markdown",
   "id": "c2d24d5d-fe72-479d-9da7-7a9c65625375",
   "metadata": {},
   "source": [
    " MySQL Tutorial: AUTOCOMMIT,COMMIT, and ROLLBACK\n",
    "\n",
    " Now, we will explore how MySQL handles transactions using the AUTOCOMMIT , \n",
    " COMMIT , and ROLLBACK statements. Understanding these is essential for\n",
    " maintaining data integrity in your databases, especially in data science workflows\n",
    " where large and complex data operations are common."
   ]
  },
  {
   "cell_type": "markdown",
   "id": "313d47b9-ee63-4aab-b61c-b0207606e035",
   "metadata": {},
   "source": [
    "What is a Transaction?\n",
    "\n",
    " A transaction is a sequence of one or more SQL statements that are executed as a\n",
    " single unit. A transaction has four key properties, known as ACID:\n",
    "\n",
    ". Atomicity: All or nothing.\n",
    ". Consistency: Valid state before and after.\n",
    ". Isolation: Transactions do not interfere.\n",
    ". Durability: Changes persist after commit."
   ]
  },
  {
   "cell_type": "markdown",
   "id": "bb5c201f-59c9-41bf-be37-aadeeed99df3",
   "metadata": {},
   "source": [
    " AUTOCOMMIT\n",
    "\n",
    " By default, MySQL runs in autocommit mode. This means that every SQL\n",
    " statement is treated as a separate transaction and is committed automatically right\n",
    " after it is executed.\n",
    "     \n",
    " Check Autocommit Status\n",
    " \n",
    " SELECT @@autocommit;\n"
   ]
  },
  {
   "cell_type": "markdown",
   "id": "ec569696-c7f6-41dc-9edb-986aba08633f",
   "metadata": {},
   "source": [
    " Disable Autocommit\n",
    "\n",
    " SET autocommit = 0;\n",
    "\n",
    " This allows you to group multiple statements into a transaction manually."
   ]
  },
  {
   "cell_type": "markdown",
   "id": "59476211-65ce-4eb3-bdb2-207ebe111ea5",
   "metadata": {},
   "source": [
    " Enable Autocommit\n",
    "\n",
    " SET autocommit = 1;"
   ]
  },
  {
   "cell_type": "markdown",
   "id": "4958e942-10ee-4490-9e97-ada24587106e",
   "metadata": {},
   "source": [
    "COMMIT\n",
    "\n",
    " The COMMIT statement is used to permanently save all the changes made in the current transaction.\n",
    " Example\n",
    "\n",
    " START TRANSACTION;\n",
    " UPDATE accounts SET balance = balance - 100 WHERE id = 1;\n",
    " UPDATE accounts SET balance = balance + 100 WHERE id = 2;\n",
    " COMMIT;\n",
    "\n",
    " Once committed, the changes are visible to other sessions and are stored\n",
    " permanently in the database."
   ]
  },
  {
   "cell_type": "markdown",
   "id": "85da2c40-452f-4355-bf43-ede4a4a7d54d",
   "metadata": {},
   "source": [
    " ROLLBACK\n",
    " The ROLLBACK statement is used to undo changes made in the current transaction.\n",
    " It is useful if something goes wrong or a condition is not met.\n",
    "\n",
    " Example\n",
    " START TRANSACTION;\n",
    " UPDATE accounts SET balance = balance - 100 WHERE id = 1;-- An error or condition check fails here\n",
    " ROLLBACK;\n",
    "\n",
    " After a rollback, all changes since the start of the transaction are discarded\n"
   ]
  },
  {
   "cell_type": "markdown",
   "id": "764839d1-507c-4238-9f63-c05f54a2d49a",
   "metadata": {},
   "source": [
    "Summary Table\n",
    "\n",
    " Statement                                                  Description\n",
    " AUTOCOMMIT                                          Automatically commits every query\n",
    " SET autocommit = 0                                    Disables autocommit mode\n",
    " COMMIT                                               Saves all changes in a transaction\n",
    " ROLLBACK                                            Reverts all changes in a transaction COMMIT \n",
    " \n",
    " "
   ]
  },
  {
   "cell_type": "markdown",
   "id": "5f8d7e1e-73f9-4c21-b9ed-79ed3d6f2659",
   "metadata": {},
   "source": [
    " Best Practices\n",
    "\n",
    "• Always use transactions when performing multiple related operations.\n",
    "•  Disable autocommit when working with critical data updates.\n",
    "•  Rollback if any step in your transaction fails.\n",
    "•  Test your transactions thoroughly before running them on production data.\n"
   ]
  }
 ],
 "metadata": {
  "kernelspec": {
   "display_name": "Python [conda env:base] *",
   "language": "python",
   "name": "conda-base-py"
  },
  "language_info": {
   "codemirror_mode": {
    "name": "ipython",
    "version": 3
   },
   "file_extension": ".py",
   "mimetype": "text/x-python",
   "name": "python",
   "nbconvert_exporter": "python",
   "pygments_lexer": "ipython3",
   "version": "3.12.7"
  }
 },
 "nbformat": 4,
 "nbformat_minor": 5
}
