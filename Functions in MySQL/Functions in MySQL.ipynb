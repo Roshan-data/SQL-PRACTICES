{
 "cells": [
  {
   "cell_type": "markdown",
   "id": "e7c9340b-9e08-4586-afa4-b0e7665079b7",
   "metadata": {},
   "source": [
    " MySQL Functions\n",
    " Functions in MySQL are like built-in tools that help you work with data — whether\n",
    " you’re manipulating text, doing math, or working with dates.\n",
    " \n",
    " Let’s explore some commonly used functions with simple examples."
   ]
  },
  {
   "cell_type": "markdown",
   "id": "c0fa04cf-7df9-4366-ac7b-4b6709b6e6e8",
   "metadata": {},
   "source": [
    " 1. CONCAT() – Join strings together\n",
    "\n",
    " We are telling MySQL to combine two or more strings.\n",
    " SELECT CONCAT('Hello', ' ', 'World') AS greeting;-- Output: Hello World\n",
    "\n",
    " You can also use it with columns: \n",
    " SELECT CONCAT(first_name, ' ', last_name) AS full_name FROM users;"
   ]
  },
  {
   "cell_type": "markdown",
   "id": "a7c572b4-dba9-484f-a569-05f6ddcb82e0",
   "metadata": {},
   "source": [
    " 2. NOW() – Get the current date and time\n",
    "\n",
    " We are telling MySQL to give us the current date and time.\n",
    "\n",
    " SELECT NOW();\n",
    " -- Output: 2025-05-03 14:20:45 (example)\n"
   ]
  },
  {
   "cell_type": "code",
   "execution_count": null,
   "id": "7d6cf257-d981-4d62-8850-f0e2575691a2",
   "metadata": {},
   "outputs": [],
   "source": [
    "3. LENGTH() – Find length of a string (in bytes)\n",
    "\n",
    " SELECT LENGTH('Harry');\n",
    "-- Output: 5\n",
    "\n",
    " Useful for validations or checking string size."
   ]
  },
  {
   "cell_type": "markdown",
   "id": "f19e535c-5a16-4a99-a897-f3e9f0ce7a56",
   "metadata": {},
   "source": [
    " 4. ROUND() – Round numbers to a specific number of\n",
    " decimal places\n",
    "\n",
    " SELECT ROUND(12.6789, 2);\n",
    " -- Output: 12.6"
   ]
  },
  {
   "cell_type": "markdown",
   "id": "8bacd575-7ba0-4f8f-9887-ef8c268f62ec",
   "metadata": {},
   "source": [
    " 5. DATEDIFF() – Difference between two dates (in days)\n",
    "\n",
    " SELECT DATEDIFF('2025-06-01', '2025-05-01');\n",
    " -- Output: 3"
   ]
  },
  {
   "cell_type": "markdown",
   "id": "b22cf452-2f55-4a8a-9d13-fb389f1a419f",
   "metadata": {},
   "source": [
    " Comprehensive List of Useful MySQL Functions\n",
    " Function                                         Description                                      Example Usage\n",
    " \n",
    " CONCAT()                                   Combine multiple strings                              CONCAT('A', 'B') → 'AB'  \n",
    " LENGTH()                                   Length of a string (in bytes)                         LENGTH('Hi') → 2\n",
    " CHAR_LENGTH()                             Number of characters in a string                       CHAR_LENGTH('हिंदी') → 5\n",
    " LOWER()                                   Convert string to lowercase                            LOWER('MySQL') → mysql\n",
    " UPPER()                                   Convert string to uppercase                            UPPER('hello') → HELLO\n",
    " REPLACE()                                  Replace part of a string                              REPLACE('abc', 'b', 'x') → axc\n",
    " TRIM()                                   Remove leading/trailing spaces                           TRIM('  hello  ') → hello\n",
    " NOW()                                        Current date and time                                        NOW()\n",
    " CURDATE()                                    Current date only                                          CURDATE()\n",
    " CURTIME()                                    Current time only                                          CURTIME()\n",
    " DATE()                                    Extract date from datetime                                  DATE(NOW())\n",
    " MONTHNAME()                                Get month name from date                               MONTHNAME('2025-05-03') → May\n",
    " YEAR()                                     Extract year from date                                       YEAR(NOW())\n",
    " DAY()                                      Extract day of month                                     DAY('2025-05-03') → 3\n",
    " DATEDIFF()                                Days between two dates                                 DATEDIFF('2025-06-01', '2025-05-01')\n",
    " ROUND()                                  Round to decimal places                                   ROUND(5.678, 2) → 5.68\n",
    " FLOOR()                                 Round down to nearest whole number                           FLOOR(5.9) → 5\n",
    " CEIL()                                   Round up to nearest whole number                              CEIL(5.1) → 6\n",
    " ABS()                                        Absolute value                                         ABS(-10) → 10\n",
    " MOD()                                       Get remainder                                            MOD(10, 3) → 1\n",
    " RAND()                                      Random decimal between 0 and 1                             RAND()\n",
    " IFNULL()                                    Replace NULL with a default value                        IFNULL(NULL, 'N/A') → N/A\n",
    " COALESCE()                              Return first non-NULL value in a list                       COALESCE(NULL, '', 'Hello') → ''\n",
    " COUNT()                                             Count rows                                         COUNT(*)\n",
    " AVG()                                      Average of a numeric column                               AVG(score)\n",
    " SUM()                                        Total sum of values                                     SUM(score)\n",
    " MIN()                                          Smallest value                                         MIN(score)\n",
    " MAX()                                          Largest value                                          MAX(score)"
   ]
  }
 ],
 "metadata": {
  "kernelspec": {
   "display_name": "Python [conda env:base] *",
   "language": "python",
   "name": "conda-base-py"
  },
  "language_info": {
   "codemirror_mode": {
    "name": "ipython",
    "version": 3
   },
   "file_extension": ".py",
   "mimetype": "text/x-python",
   "name": "python",
   "nbconvert_exporter": "python",
   "pygments_lexer": "ipython3",
   "version": "3.12.7"
  }
 },
 "nbformat": 4,
 "nbformat_minor": 5
}
