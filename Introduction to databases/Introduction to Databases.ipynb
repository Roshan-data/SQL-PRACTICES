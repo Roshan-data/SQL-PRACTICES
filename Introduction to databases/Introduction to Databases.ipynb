{
 "cells": [
  {
   "cell_type": "markdown",
   "id": "7c376adb-79ca-4100-a95a-1bc170881850",
   "metadata": {},
   "source": [
    "Introduction to Databases"
   ]
  },
  {
   "cell_type": "markdown",
   "id": "e5c0ae3e-08fe-4183-9767-ea26faf46926",
   "metadata": {},
   "source": [
    "What is a Database?\n",
    " A Database is an organized collection of structured information or data, typically\n",
    " stored electronically in a computer system. Its a way to store data in a format that\n",
    " is easily accessible.\n",
    "     \n",
    " Example: Think of a library where books are organized by topic, author, and\n",
    " title – that’s essentially what a database does with data."
   ]
  },
  {
   "cell_type": "markdown",
   "id": "f6a0611c-5709-42b2-8369-a77f3be5c3f2",
   "metadata": {},
   "source": [
    "Why Do We Need Databases?\n",
    "\n",
    " • To store, manage, and retrieve large amounts of data efficiently.\n",
    " • To prevent data duplication and maintain data integrity.\n",
    " • To allow multiple users to access and manipulate data simultaneously.\n"
   ]
  },
  {
   "cell_type": "markdown",
   "id": "24f65439-e2cb-46a8-84fe-0838662b65da",
   "metadata": {},
   "source": [
    "What is SQL?\n",
    "\n",
    " SQL (Structured Query Language) is the standard programming language used to\n",
    " communicate with and manipulate databases.\n",
    "\n",
    " Common operations using SQL:\n",
    "\n",
    "  • SELECT – Retrieve data (READ)\n",
    "  • UPDATE – Modify existing data (UPDATE)\n",
    "  • DELETE – Remove records (DELETE)\n",
    "  • INSERT – Add new records (CREATE)\n",
    "\n",
    " These operations are usually referred to as CRUD Operations. CRUD stands for\n",
    " Create, Read, Update, and Delete — the four basic operations used to manage data\n",
    " in a database."
   ]
  },
  {
   "cell_type": "markdown",
   "id": "16f1556b-c6f3-4ec4-81a2-a5b985c9c861",
   "metadata": {},
   "source": [
    "Comparison with Excel\n",
    " Databases and Excel may seem similar at first, but they work differently under the\n",
    " \n",
    " • In Excel, a sheet is like a table in a database.\n",
    " • Each row in the sheet is similar to a record (or entry) in a database table.\n",
    " • Each column in Excel corresponds to a field (or attribute) in a table.\n",
    " • Excel stores all data in one file, whereas a database can contain multiple\n",
    "   related tables.\n",
    " •  In databases, you can define strict data types and rules, which Excel doesn’t\n",
    "    enforce.\n",
    " •  Unlike Excel, databases allow complex querying, relationships between tables,\n",
    "    and secure multi-user access.\n",
    "\n",
    " Think of a database as a more powerful, structured, and scalable version of\n",
    " Excel for data management."
   ]
  },
  {
   "cell_type": "markdown",
   "id": "f69fcb4d-341b-48b2-9caa-206882c0ba82",
   "metadata": {},
   "source": [
    " Relational vs Non-relational Databases\n",
    "\n",
    " Relational databases store data in structured tables with predefined schemas and\n",
    " relationships between tables (e.g., MySQL, PostgreSQL). Non-relational databases\n",
    " (NoSQL) use flexible formats like documents, key-value pairs, or graphs, and don’t\n",
    " require a fixed schema (e.g., MongoDB, Firebase). Relational is ideal for structured\n",
    " data and complex queries, while non-relational is better for scalability and\n",
    " unstructured data.\n",
    "\n",
    "    Feature                           Relational (SQL)                       Non-relational (NoSQL)\n",
    "\n",
    "1. Structure                         Tables (rows & cols)                    Documents, Key-Value \n",
    "2. Language                              SQL                                 Varies (Mongo Query, etc.)\n",
    "3. Schema                              Fixed schema                             Flexible schema\n",
    "4. Examples                            MySQL, PostgreSQL                        MongoDB, Firebase\n",
    "\n"
   ]
  },
  {
   "cell_type": "markdown",
   "id": "7eeb11a0-f761-40bd-afc2-b21fbc0e110c",
   "metadata": {},
   "source": [
    "What is DBMS?\n",
    "\n",
    " A Database Management System (DBMS) is software that interacts with users,\n",
    " applications, and the database itself to capture and analyze data. It allows users to\n",
    " create, read, update, and delete data in a structured way.\n",
    "     \n",
    " • Examples: MySQL, PostgreSQL, Oracle Database, SQLite.\n",
    " • Functions: Data storage, retrieval, security, backup, and recovery\n"
   ]
  }
 ],
 "metadata": {
  "kernelspec": {
   "display_name": "Python [conda env:base] *",
   "language": "python",
   "name": "conda-base-py"
  },
  "language_info": {
   "codemirror_mode": {
    "name": "ipython",
    "version": 3
   },
   "file_extension": ".py",
   "mimetype": "text/x-python",
   "name": "python",
   "nbconvert_exporter": "python",
   "pygments_lexer": "ipython3",
   "version": "3.12.7"
  }
 },
 "nbformat": 4,
 "nbformat_minor": 5
}
