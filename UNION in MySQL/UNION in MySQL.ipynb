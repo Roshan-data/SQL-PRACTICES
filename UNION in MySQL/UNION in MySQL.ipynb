{
 "cells": [
  {
   "cell_type": "markdown",
   "id": "56f7e822-980d-4394-b33d-458f83b65a88",
   "metadata": {},
   "source": [
    "UNION in MySQL\n",
    "\n",
    "The UNION operator is used to combine the result sets of two or more SELECT statements into a single result.\n",
    "\n",
    " It helps when:\n",
    " .You’re pulling similar data from different tables.\n",
    " .You want to merge results from multiple queries into one list."
   ]
  },
  {
   "cell_type": "markdown",
   "id": "66c3cd71-968c-4e45-ab7f-c59bb131fac6",
   "metadata": {},
   "source": [
    "When UNION Works\n",
    "\n",
    "1. Same number of columns in all SELECT statements\n",
    "2. Compatible data types in corresponding columns.\n",
    "3. Columns will be matched by position, not by name.\n",
    "\n",
    " SELECT name, city FROM customers\n",
    " UNION\n",
    " SELECT name, city FROM vendors;\n",
    "\n",
    " This combines names and cities from both tables into a single result"
   ]
  },
  {
   "cell_type": "markdown",
   "id": "f8400743-5068-486f-937d-d7d6fe990923",
   "metadata": {},
   "source": [
    "When UNION Doesn’t Work\n",
    "• If the number of columns is different:\n",
    "\n",
    "-- This will throw an error\n",
    " SELECT name, city FROM customers\n",
    "UNION\n",
    " SELECT name FROM vendors;\n",
    "\n",
    "• If the data types don’t match:\n",
    "-- Error if 'age' is an integer and 'name' is a string\n",
    " SELECT age FROM users\n",
    " UNION\n",
    " SELECT name FROM students;\n",
    "\n",
    "MySQL will complain that the columns can’t be matched due to type mismatch."
   ]
  },
  {
   "cell_type": "markdown",
   "id": "c08d4576-abd1-48bd-89ef-e77b8c45fb81",
   "metadata": {},
   "source": [
    " UNION vs UNION ALL\n",
    "By default, UNION ALL UNION removes duplicate rows. If you want to keep duplicates, use \n",
    "UNION ALL :\n",
    "\n",
    " SELECT name FROM students\n",
    " UNION ALL\n",
    " SELECT name FROM alumni;\n",
    "\n",
    " Use UNION if:\n",
    ". You want a clean list without duplicates.\n",
    "\n",
    "Use UNION ALL if:\n",
    ". You want performance and don’t care about duplicates.\n",
    ". Or you expect duplicate values and want to preserve them."
   ]
  },
  {
   "cell_type": "markdown",
   "id": "4c266f72-160c-42ad-a1cc-8fe8b67a6908",
   "metadata": {},
   "source": [
    " Practical Use Case Example\n",
    " Let’s say you have two tables: students_2023 and students_2024 .\n"
   ]
  },
  {
   "cell_type": "markdown",
   "id": "9aa4a97a-95d6-44e6-bc93-456a307a9d16",
   "metadata": {},
   "source": [
    " SELECT name, batch FROM students_2023\n",
    " UNION\n",
    " SELECT name, batch FROM students_2024;\n",
    "\n",
    " This gives a combined list of all students across both years, without duplicates."
   ]
  },
  {
   "cell_type": "markdown",
   "id": "e3916367-beb3-492c-a47c-8c98626964bd",
   "metadata": {},
   "source": [
    " Sorting the Combined Result\n",
    " You can sort the final output using ORDER BY at the end:\n",
    "\n",
    " SELECT name FROM students_2023\n",
    " UNION\n",
    " SELECT name FROM students_2024\n",
    " ORDER BY name;"
   ]
  }
 ],
 "metadata": {
  "kernelspec": {
   "display_name": "Python [conda env:base] *",
   "language": "python",
   "name": "conda-base-py"
  },
  "language_info": {
   "codemirror_mode": {
    "name": "ipython",
    "version": 3
   },
   "file_extension": ".py",
   "mimetype": "text/x-python",
   "name": "python",
   "nbconvert_exporter": "python",
   "pygments_lexer": "ipython3",
   "version": "3.12.7"
  }
 },
 "nbformat": 4,
 "nbformat_minor": 5
}
