{
 "cells": [
  {
   "cell_type": "markdown",
   "id": "606081b3-3ce8-4308-8448-d19be44894dd",
   "metadata": {},
   "source": [
    "Creating a Database in MySQL\n",
    "\n",
    "To start working with MySQL, the first step is to create a database.\n",
    " Syntax\n",
    "    \n",
    "  * CREATE DATABASE database_name;\n",
    "\n",
    "\n",
    "Example:\n",
    "\n",
    "  * CREATE DATABASE student_db;\n",
    " \n",
    "  \n",
    "  This command creates a new database named \n",
    "   student_db ."
   ]
  },
  {
   "cell_type": "markdown",
   "id": "9abcea93-078c-4d3d-a193-4f90ac2f361a",
   "metadata": {},
   "source": [
    "Tips\n",
    "\n",
    "• Database names should be unique.\n",
    "•  Avoid using spaces or special characters.\n",
    "•  Use lowercase and underscores ( _ ) for better readability (e.g., employee_records ).\n"
   ]
  },
  {
   "cell_type": "markdown",
   "id": "6b93cafc-02ac-4a2b-9e1b-520ffbe0e24e",
   "metadata": {},
   "source": [
    "Viewing All Databases\n",
    "\n",
    " To see all available databases:\n",
    "\n",
    "  * SHOW DATABASES;\n"
   ]
  },
  {
   "cell_type": "markdown",
   "id": "60302238-21eb-4e64-8c22-464b1fdd9a2d",
   "metadata": {},
   "source": [
    "Switching to a Database\n",
    "\n",
    " Before working with tables, you must select the database:\n",
    "\n",
    "   * USE student_db;\n"
   ]
  },
  {
   "cell_type": "markdown",
   "id": "f86a8221-7d12-44ac-87e2-c4d4f1428b52",
   "metadata": {},
   "source": [
    " Dropping a Database\n",
    "\n",
    " To delete an existing database (this action is irreversible):\n",
    "  \n",
    "    * DROP DATABASE database_name;  \n"
   ]
  },
  {
   "cell_type": "markdown",
   "id": "6c1a70e1-bd06-4940-b93c-f9361f7f2e3b",
   "metadata": {},
   "source": [
    " Example\n",
    "\n",
    " *  DROP DATABASE student_db;\n",
    "\n",
    "   Be very careful! This will permanently delete all data and tables in the\n",
    "   database.\n"
   ]
  }
 ],
 "metadata": {
  "kernelspec": {
   "display_name": "Python [conda env:base] *",
   "language": "python",
   "name": "conda-base-py"
  },
  "language_info": {
   "codemirror_mode": {
    "name": "ipython",
    "version": 3
   },
   "file_extension": ".py",
   "mimetype": "text/x-python",
   "name": "python",
   "nbconvert_exporter": "python",
   "pygments_lexer": "ipython3",
   "version": "3.12.7"
  }
 },
 "nbformat": 4,
 "nbformat_minor": 5
}
