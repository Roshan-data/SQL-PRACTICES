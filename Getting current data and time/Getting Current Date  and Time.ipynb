{
 "cells": [
  {
   "cell_type": "markdown",
   "id": "e99ccacb-663e-4a08-9a43-fec8931d7c7b",
   "metadata": {},
   "source": [
    "Getting Current Date and Time\n",
    "\n",
    " MySQL provides built-in functions to retrieve the current date, time, and \n",
    " timestamp. These are commonly used in data logging, time-based queries, and\n",
    " tracking records in data science workflows."
   ]
  },
  {
   "cell_type": "markdown",
   "id": "f4a43166-ea78-4db7-af26-5cdbd4046f27",
   "metadata": {},
   "source": [
    "1. CURRENT_DATE\n",
    "\n",
    " Returns the current date in  YYYY-MM-DD format.\n",
    " SELECT CURRENT_DATE;\n",
    "\n",
    " Example Output:\n",
    " 2025-05-02"
   ]
  },
  {
   "cell_type": "markdown",
   "id": "d36d01e9-88d8-4fe9-ab61-bf6f3a4ed326",
   "metadata": {},
   "source": [
    " 2. CURRENT_TIME\n",
    "\n",
    " Returns the current time in HH:MM:SS format.\n",
    " SELECT CURRENT_TIME;\n",
    "\n",
    " Example Output:\n",
    " 14:23:45"
   ]
  },
  {
   "cell_type": "markdown",
   "id": "7d274dd3-9844-41b1-8d4d-321ff6b6ea54",
   "metadata": {},
   "source": [
    "3. CURRENT_TIMESTAMP (or NOW() )\n",
    "\n",
    " Returns the current date and time.\n",
    " SELECT CURRENT_TIMESTAMP;-- or\n",
    " SELECT NOW();\n",
    "\n",
    " Example Output:\n",
    " 2025-05-02 14:23:45\n",
    "\n",
    " This is especially useful for storing creation or update times in records"
   ]
  },
  {
   "cell_type": "markdown",
   "id": "3255e3d0-66da-46e6-b7e2-838678ab5bbf",
   "metadata": {},
   "source": [
    " 4. LOCALTIME and LOCALTIMESTAMP\n",
    "\n",
    " These are synonyms for NOW() and return the current date and time.\n",
    " SELECT LOCALTIME;\n",
    " SELECT LOCALTIMESTAMP;\n",
    "\n",
    " These functions return the local date and time of the MySQL server, not the client’s\n",
    " time zone.\n",
    "\n",
    " Important Clarification:\n",
    " The “local” in LOCALTIME refers to the time zone configured on the MySQL server,\n",
    " not the user’s system.\n",
    " You can check the current server time zone using:\n"
   ]
  },
  {
   "cell_type": "markdown",
   "id": "07a5af18-8e2f-4c8b-8fa9-b0ee7a4ad3bb",
   "metadata": {},
   "source": [
    "5. Using in Table Inserts\n",
    "\n",
    " You can use NOW() or CURRENT_TIMESTAMP to auto-fill date-time columns.\n",
    " INSERT INTO logs (event, created_at)\n",
    " VALUES ('data_import', NOW());"
   ]
  },
  {
   "cell_type": "markdown",
   "id": "8a4e7595-c17f-4494-a00b-0a444ade0e89",
   "metadata": {},
   "source": [
    "6. Date and Time Functions Recap\n",
    "\n",
    " Function                           Return                          Example Output     \n",
    " CURRENT_DATE                      Date Only                          2025-05-02\n",
    " CURRENT_TIME                      Time only                           14:23:45\n",
    " NOW()                            Date and time                    2025-05-02 14:23:45\n",
    " CURRENT_TIMESTAMP                Date and time                    2025-05-02 14:23:45\n",
    " LOCALTIME                        Date and time                    2025-05-02 14:23:45\n",
    " "
   ]
  },
  {
   "cell_type": "markdown",
   "id": "f8f5b038-d79c-4689-8068-915865396b60",
   "metadata": {},
   "source": [
    " Best Practices:\n",
    "\n",
    " .Use CURRENT_TIMESTAMP for record timestamps.\n",
    " .Use NOW() in queries to filter records by current time.\n",
    " .Avoid relying on system time for business logic; prefer database time for\n",
    "  consistency.\n"
   ]
  }
 ],
 "metadata": {
  "kernelspec": {
   "display_name": "Python [conda env:base] *",
   "language": "python",
   "name": "conda-base-py"
  },
  "language_info": {
   "codemirror_mode": {
    "name": "ipython",
    "version": 3
   },
   "file_extension": ".py",
   "mimetype": "text/x-python",
   "name": "python",
   "nbconvert_exporter": "python",
   "pygments_lexer": "ipython3",
   "version": "3.12.7"
  }
 },
 "nbformat": 4,
 "nbformat_minor": 5
}
