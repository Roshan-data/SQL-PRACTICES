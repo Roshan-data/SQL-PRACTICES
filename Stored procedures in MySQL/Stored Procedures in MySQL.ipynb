{
 "cells": [
  {
   "cell_type": "markdown",
   "id": "0594dc28-f7af-4ca8-a72f-c0b026376c43",
   "metadata": {},
   "source": [
    "Stored Procedures in MySQL\n",
    "\n",
    " A Stored Procedure is a saved block of SQL code that you can execute later by\n",
    " calling its name.\n",
    " It allows you to group SQL statements and reuse them—just like a function in\n",
    " programming."
   ]
  },
  {
   "cell_type": "markdown",
   "id": "aff99650-243b-41f0-869e-1b27e3729522",
   "metadata": {},
   "source": [
    "\n",
    "Why Use Stored Procedures?\n",
    "• To avoid repeating the same SQL logic in multiple places\n",
    "• To encapsulate complex business logic inside the database\n",
    "• To improve performance by reducing network traffic\n"
   ]
  },
  {
   "cell_type": "markdown",
   "id": "f9604a2a-1dde-448c-bd07-f77dabed0bd5",
   "metadata": {},
   "source": [
    "Creating a Stored Procedure\n",
    "\n",
    " When you create a stored procedure, you need to temporarily change the SQL\n",
    " statement delimiter from ; to something else like // or $$ ."
   ]
  },
  {
   "cell_type": "markdown",
   "id": "d09954d4-fffc-4643-ad71-83462fb716ac",
   "metadata": {},
   "source": [
    "Why change the DELIMITER ?\n",
    "\n",
    " MySQL ends a command at the first ;\n",
    " Since stored procedures contain multiple SQL statements (each ending in ; )\n",
    " we need to tell MySQL not to end the procedure too early.\n",
    " So we temporarily change the delimiter to something else—then switch it back.\n"
   ]
  },
  {
   "cell_type": "markdown",
   "id": "fe061b45-ec12-475b-87e8-fea8c71e5f2a",
   "metadata": {},
   "source": [
    "Example: Simple Procedure to List All Employees\n",
    "\n",
    " DELIMITER //\n",
    "\n",
    " CREATE PROCEDURE list_employees()\n",
    " BEGIN\n",
    "    SELECT * FROM employees;\n",
    " END //\n",
    "\n",
    " DELIMITER ;\n",
    "\n",
    "  This creates a procedure named list_employees ."
   ]
  },
  {
   "cell_type": "markdown",
   "id": "f08e8772-860f-4754-8fda-b73585203c50",
   "metadata": {},
   "source": [
    " Calling a Stored Procedure\n",
    "\n",
    " You use the CALL statement:\n",
    " CALL list_employees();"
   ]
  },
  {
   "cell_type": "markdown",
   "id": "ca82a863-2b3e-4b2f-b153-3d9bc98c641f",
   "metadata": {},
   "source": [
    " Stored Procedure with Parameters\n",
    "\n",
    " You can pass values into procedures using the IN keyword.\n",
    "\n",
    " Example: Get details of an employee by ID\n",
    "\n",
    " DELIMITER //\n",
    "\n",
    " CREATE PROCEDURE get_employee_by_id(IN emp_id INT)\n",
    " BEGIN\n",
    "    SELECT * FROM employees WHERE id = emp_id;\n",
    " END //\n",
    "\n",
    "DELIMITER ;\n",
    "\n",
    "Here, IN emp_id INT means:\n",
    " “Take an integer input called emp_id when this procedure is called.”\n",
    "\n",
    "\n",
    " Call it like this:\n",
    " CALL get_employee_by_id(3);"
   ]
  },
  {
   "cell_type": "markdown",
   "id": "541bdfa7-6863-4cd5-a1bc-af786787c504",
   "metadata": {},
   "source": [
    " Dropping a Stored Procedure\n",
    "\n",
    " To delete a stored procedure:\n",
    "\n",
    " DROP PROCEDURE IF EXISTS get_employee_by_id;\n",
    "\n",
    " This ensures it doesn’t throw an error if the procedure doesn’t exist."
   ]
  },
  {
   "cell_type": "markdown",
   "id": "77c332ef-5c5d-4ac1-8a78-78cb42fc1d5c",
   "metadata": {},
   "source": [
    "Summary:\n",
    "\n",
    " Task                                                       SQL Command             \n",
    "\n",
    " Create Procedure                                         CREATE PROCEDURE  \n",
    " Change Delimiter                                     DELIMITER // (or any unique symbol)\n",
    " Call a Procedure                                       CALL procedure_name();\n",
    " With Input Parameter                                  IN param_name data_type\n",
    " Drop a Procedure                                    DROP PROCEDURE IF EXISTS procedure_name;\n"
   ]
  },
  {
   "cell_type": "markdown",
   "id": "a414b24f-00a8-4f4f-a8a4-14a280cfb726",
   "metadata": {},
   "source": [
    "Best Practices:\n",
    "\n",
    " • Always give clear names to procedures.\n",
    " • Use IN , OUT , or INOUT for flexible parameter handling.\n",
    " • Keep business logic in the database only if it improves clarity or performance\n"
   ]
  }
 ],
 "metadata": {
  "kernelspec": {
   "display_name": "Python [conda env:base] *",
   "language": "python",
   "name": "conda-base-py"
  },
  "language_info": {
   "codemirror_mode": {
    "name": "ipython",
    "version": 3
   },
   "file_extension": ".py",
   "mimetype": "text/x-python",
   "name": "python",
   "nbconvert_exporter": "python",
   "pygments_lexer": "ipython3",
   "version": "3.12.7"
  }
 },
 "nbformat": 4,
 "nbformat_minor": 5
}
