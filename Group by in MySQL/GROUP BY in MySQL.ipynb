{
 "cells": [
  {
   "cell_type": "markdown",
   "id": "e3c64d20-30f4-4f75-b349-10a85fa2ee3f",
   "metadata": {},
   "source": [
    "GROUP BY in MySQL\n",
    "\n",
    " The GROUP BY clause is used when you want to group rows that have the same\n",
    " values in specified columns.\n",
    " It’s usually combined with aggregate functions like COUNT(),  SUM() , AVG(), MAX() , or MIN()\n",
    "\n",
    " We are telling MySQL:\n",
    " \n",
    " “Group these rows together by this column, and then apply an aggregate\n",
    " function to each group.”"
   ]
  },
  {
   "cell_type": "markdown",
   "id": "fba6db9e-c99c-4fc1-b94c-fdb623568662",
   "metadata": {},
   "source": [
    " Example: Count of employees in each department\n",
    "\n",
    " SELECT department, COUNT(*) AS total_employees\n",
    " FROM employees\n",
    " GROUP BY department;\n",
    "\n",
    " Here, we’re grouping all employees by their department and counting how many\n",
    " are in each group."
   ]
  },
  {
   "cell_type": "markdown",
   "id": "86f93839-5630-4d04-a958-d79b32ab05ed",
   "metadata": {},
   "source": [
    " Example: Average salary per department\n",
    "\n",
    " SELECT department, AVG(salary) AS avg_salary\n",
    " FROM employees\n",
    " GROUP BY department;\n",
    "\n",
    " We are telling MySQL: “Group the data by department, then calculate the\n",
    " average salary for each group.”\n"
   ]
  },
  {
   "cell_type": "markdown",
   "id": "1853fa9b-18f8-4690-a164-d2b0f9f579c6",
   "metadata": {},
   "source": [
    "Using GROUP BY with Multiple Columns\n",
    "\n",
    " You can group by more than one column to get more detailed groupings.\n",
    "     \n",
    " Example: Count by department and job title\n",
    "\n",
    " SELECT department, job_title, COUNT(*) AS count\n",
    " FROM employees\n",
    " GROUP BY department, job_title;\n",
    "\n",
    " This will count how many employees hold each job title within each department."
   ]
  },
  {
   "cell_type": "markdown",
   "id": "08b11830-82ed-4ee9-a6d8-eba14e7804ba",
   "metadata": {},
   "source": [
    " The HAVING Clause\n",
    "\n",
    " Once you’ve grouped data using GROUP BY , you might want to filter the groups\n",
    " themselves based on the result of an aggregate function. This is where HAVING\n",
    " comes in.\n",
    "\n",
    " HAVING is like WHERE , but it works after the grouping is done."
   ]
  },
  {
   "cell_type": "markdown",
   "id": "3d246456-e6f9-4c2b-818a-d6cec5b64198",
   "metadata": {},
   "source": [
    "Example: Departments with more than 5 employees\n",
    "\n",
    " SELECT department, COUNT(*) AS total\n",
    " FROM employees\n",
    " GROUP BY department\n",
    " HAVING COUNT(*) > 5;\n",
    "\n",
    " We are telling MySQL: “First group employees by department, then only show\n",
    " those departments where the total number is greater than 5.”\n"
   ]
  },
  {
   "cell_type": "markdown",
   "id": "4e628471-64fc-4e20-a646-3bdb8aa59bdb",
   "metadata": {},
   "source": [
    "Difference Between WHERE and HAVING\n",
    "\n",
    "Clause                             Used for                                         Example use\n",
    " WHERE                         Filters rows before grouping                   WHERE salary > 50000 \n",
    " HAVING                        Filters groups after grouping                  HAVING AVG(salary) > 60000"
   ]
  },
  {
   "cell_type": "markdown",
   "id": "91d48658-2a8b-4533-a830-744fb8e3c172",
   "metadata": {},
   "source": [
    " You can also use both together:\n",
    "\n",
    " SELECT department, AVG(salary) AS avg_salary\n",
    " FROM employees\n",
    " WHERE status = 'active'\n",
    " GROUP BY department\n",
    " HAVING AVG(salary) > 60000;"
   ]
  },
  {
   "cell_type": "markdown",
   "id": "ceceb3da-0ce9-43a0-9013-de794afcb113",
   "metadata": {},
   "source": [
    " Here’s what’s happening:\n",
    " 1. WHERE filters only the active employees.\n",
    " 2. GROUP BY groups them by department.\n",
    " 3. HAVING filters out departments with low average salary.\n"
   ]
  },
  {
   "cell_type": "markdown",
   "id": "ebcb494c-9f2b-4f37-96bf-e62c8e942e62",
   "metadata": {},
   "source": [
    "Using WITH ROLLUP in MySQL\n",
    "\n",
    "   The WITH ROLLUP clause in MySQL is used with GROUP BY to add summary rows (totals and subtotals) to your result set.\n",
    "\n",
    "Summary:\n",
    " \n",
    " Keyword                                       Role\n",
    " GROUP BY                              Groups rows with same values into summary rows\n",
    " HAVING                                 Filters groups based on aggregate results  \n"
   ]
  },
  {
   "cell_type": "markdown",
   "id": "280ed98c-068b-4b92-8a52-89581db25336",
   "metadata": {},
   "source": [
    "Use GROUP BY when you want to aggregate data. Use HAVING when you want to filter those aggregated groups."
   ]
  }
 ],
 "metadata": {
  "kernelspec": {
   "display_name": "Python [conda env:base] *",
   "language": "python",
   "name": "conda-base-py"
  },
  "language_info": {
   "codemirror_mode": {
    "name": "ipython",
    "version": 3
   },
   "file_extension": ".py",
   "mimetype": "text/x-python",
   "name": "python",
   "nbconvert_exporter": "python",
   "pygments_lexer": "ipython3",
   "version": "3.12.7"
  }
 },
 "nbformat": 4,
 "nbformat_minor": 5
}
