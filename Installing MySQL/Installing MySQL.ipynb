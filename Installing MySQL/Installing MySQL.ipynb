{
 "cells": [
  {
   "cell_type": "code",
   "execution_count": null,
   "id": "de9fe7b4-1527-45ff-af21-f55f49e2ec65",
   "metadata": {},
   "outputs": [],
   "source": [
    "What is MySQL?\n",
    "\n",
    " MySQL is an open-source relational database management system (RDBMS) that\n",
    " uses SQL.\n",
    "\n",
    "• Widely used in web development\n",
    "• High performance and reliability\n",
    "• Powers platforms like WordPress, Facebook (early days), and YouTube\n"
   ]
  },
  {
   "cell_type": "markdown",
   "id": "445fbec2-c028-4a39-a947-b087c696df5d",
   "metadata": {},
   "source": [
    " Real-World Use Cases\n",
    "• E-commerce websites to store customer orders and product listings\n",
    "• Banking systems to handle transactions securely\n",
    "• Social networks to manage user data, messages, and posts\n"
   ]
  },
  {
   "cell_type": "markdown",
   "id": "18f4d43b-846a-40d9-a0cd-8645a82cfebe",
   "metadata": {},
   "source": [
    "Installing MySQL\n",
    "\n",
    "MySQL is a popular open-source relational database management system used for web and data-driven applications. \n",
    "Here's a quick guide to get it installed on your system along with MySQL Workbench—a graphical tool for managing databases."
   ]
  },
  {
   "cell_type": "markdown",
   "id": "0f695d29-bae7-4921-84ef-2b60763fc165",
   "metadata": {},
   "source": [
    "Step 1: Download MySQL Installer\n",
    "\n",
    " • Visit the official MySQL website: https://dev.mysql.com/downloads/installer/\n",
    " • Choose the MySQL Installer for Windows (prefer the full version if you have a stable internet connection)."
   ]
  },
  {
   "cell_type": "markdown",
   "id": "5b5556e5-73eb-44fc-8252-92d36bfd5e9a",
   "metadata": {},
   "source": [
    "Step 2: Run the Installer\n",
    "\n",
    "• Launch the installer and choose \"Developer Default\" to install MySQL Server, Workbench, and other useful tools.\n",
    "• Click Next and let the installer check for requirements."
   ]
  },
  {
   "cell_type": "markdown",
   "id": "7442defd-1227-42bf-af8e-68414340f8c8",
   "metadata": {},
   "source": [
    "Step 3: Install and Configure MySQL Server\n",
    "\n",
    "• Select MySQL Server and Workbench from the list if not preselected.\n",
    "• Click Next → Execute to begin installation.\n",
    "• Configure MySQL server settings:\n",
    "  •  Choose Standalone MySQL Server.\n",
    "  •  Set root password (remember this).\n",
    "  •  Add a new user (optional)."
   ]
  },
  {
   "cell_type": "markdown",
   "id": "ca33f58d-b7d4-4323-9b6b-6ad2c7c823e3",
   "metadata": {},
   "source": [
    "Step 4: Finish Installation\n",
    "\n",
    " • Complete the configuration steps.\n",
    " • Launch MySQL Workbench from the Start Menu.\n",
    " • Connect using your root credentials to start managing databases."
   ]
  },
  {
   "cell_type": "markdown",
   "id": "19f2aaaa-2500-4bab-9270-b1c92c9336e7",
   "metadata": {},
   "source": [
    "You're Done!\n",
    " Now MySQL and Workbench are ready to use. Start creating databases, running queries, and building your apps."
   ]
  }
 ],
 "metadata": {
  "kernelspec": {
   "display_name": "Python [conda env:base] *",
   "language": "python",
   "name": "conda-base-py"
  },
  "language_info": {
   "codemirror_mode": {
    "name": "ipython",
    "version": 3
   },
   "file_extension": ".py",
   "mimetype": "text/x-python",
   "name": "python",
   "nbconvert_exporter": "python",
   "pygments_lexer": "ipython3",
   "version": "3.12.7"
  }
 },
 "nbformat": 4,
 "nbformat_minor": 5
}
