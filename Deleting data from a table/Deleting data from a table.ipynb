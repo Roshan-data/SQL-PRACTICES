{
 "cells": [
  {
   "cell_type": "markdown",
   "id": "680b464a-c5ac-4579-a09f-0952f1110183",
   "metadata": {},
   "source": [
    "How to Delete Data in a MySQL Table\n",
    "\n",
    "This guide explains how to remove records from a table using the DELETE statement. It covers deleting specific rows using the WHERE\n",
    "clause and the consequences of deleting all rows."
   ]
  },
  {
   "cell_type": "markdown",
   "id": "afb5667e-8b53-4a5d-abce-b8dd3e3c4973",
   "metadata": {},
   "source": [
    " 1. Basic Syntax\n",
    "\n",
    " DELETE FROM table_name\n",
    " WHERE condition;\n",
    "\n",
    "• DELETE FROM : Specifies the table from which to remove rows.\n",
    "•  WHERE : Filters which rows should be deleted.\n",
    "\n",
    " Important: If you omit the WHERE clause, all rows in the table will be deleted."
   ]
  },
  {
   "cell_type": "markdown",
   "id": "a65b3049-9fc3-44e0-903d-882bf58b3842",
   "metadata": {},
   "source": [
    "2. Example Table\n",
    " Assume the following student Table \n",
    "\n",
    "id                            name                            age                       grade\n",
    "1                          Roshan kumar                        19                        12th\n",
    "2                         Abhinav Trivedi                      19                        12th\n",
    "3                          Ujjwal Singh                        20                        12th\n",
    "4                          Yash Thakur                         20                        12th\n"
   ]
  },
  {
   "cell_type": "markdown",
   "id": "4878ce94-5dea-4a72-8961-6a038025ca2c",
   "metadata": {},
   "source": [
    "3. Delete a Specific Row\n",
    "\n",
    " Example: Delete student with id = 2\n",
    "DELETE FROM student\n",
    " WHERE id = 2;\n",
    " "
   ]
  },
  {
   "cell_type": "markdown",
   "id": "4287d610-dda3-4b8e-b947-f67302987d73",
   "metadata": {},
   "source": [
    " 4. Delete Rows Based on a Condition\n",
    "\n",
    " Example: Delete all students in 9th grade\n",
    " DELETE FROM student\n",
    " WHERE grade = '9th';\n"
   ]
  },
  {
   "cell_type": "markdown",
   "id": "23199ec6-b830-465a-8dfe-8ccb47086768",
   "metadata": {},
   "source": [
    " 5. Delete Rows Using Comparison Operators\n",
    "\n",
    " Example: Delete all students younger than 16\n",
    " DELETE FROM student\n",
    " WHERE age < 16;"
   ]
  },
  {
   "cell_type": "markdown",
   "id": "9414ce1b-2187-4ef6-805f-6ea667d4fd35",
   "metadata": {},
   "source": [
    "6. Delete Rows Where a Column is NULL\n",
    "\n",
    " Example: Delete students with no grade assigned\n",
    " DELETE FROM student\n",
    " WHERE grade IS NULL;\n"
   ]
  },
  {
   "cell_type": "markdown",
   "id": "9a2c2c21-6e1c-482c-a66f-a6620fe2cb67",
   "metadata": {},
   "source": [
    "7. Delete All Rows (Use with Caution)\n",
    "\n",
    " Example: Remove all data from the student table\n",
    "DELETE FROM student;\n",
    " This deletes all rows but retains the table structure"
   ]
  },
  {
   "cell_type": "markdown",
   "id": "b282bd81-a721-47c4-bb04-976c263a3dc5",
   "metadata": {},
   "source": [
    " 8. Completely Remove the Table\n",
    "\n",
    " To delete the table itself (not just the data), use:\n",
    " DROP TABLE student;\n",
    " This removes both the data and the table structure."
   ]
  },
  {
   "cell_type": "markdown",
   "id": "055bbafe-5e94-4058-b3bb-67f2db646be0",
   "metadata": {},
   "source": [
    "9. Verify After Deletion\n",
    "\n",
    " Check the contents of the table:\n",
    " SELECT * FROM student;\n"
   ]
  }
 ],
 "metadata": {
  "kernelspec": {
   "display_name": "Python [conda env:base] *",
   "language": "python",
   "name": "conda-base-py"
  },
  "language_info": {
   "codemirror_mode": {
    "name": "ipython",
    "version": 3
   },
   "file_extension": ".py",
   "mimetype": "text/x-python",
   "name": "python",
   "nbconvert_exporter": "python",
   "pygments_lexer": "ipython3",
   "version": "3.12.7"
  }
 },
 "nbformat": 4,
 "nbformat_minor": 5
}
