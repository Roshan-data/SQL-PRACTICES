{
 "cells": [
  {
   "cell_type": "markdown",
   "id": "5b8ef88e-0d36-43c2-8be6-0581575ac8df",
   "metadata": {},
   "source": [
    "MySQL Indexes\n",
    "\n",
    " An index in MySQL is a data structure that makes data retrieval faster—especially\n",
    " when you’re using WHERE , JOIN , ORDER BY , or searching large tables.\n",
    "     \n",
    " Think of an index like the index in a book: instead of reading every page, MySQL\n",
    " uses the index to jump straight to the relevant row(s)."
   ]
  },
  {
   "cell_type": "markdown",
   "id": "8e05c315-9901-41be-9bb3-28730b7ea9fb",
   "metadata": {},
   "source": [
    " Why Use Indexes?\n",
    "\n",
    "• Speed up queries that search, filter, or sort data.\n",
    "• Improve performance for frequent lookups or joins.\n",
    "•  Enhance scalability of your database over time.\n"
   ]
  },
  {
   "cell_type": "markdown",
   "id": "3856d17e-174b-43e9-b4d2-03999e38848a",
   "metadata": {},
   "source": [
    " How to Create an Index\n",
    "\n",
    " 1. Single Column Index\n",
    "\n",
    " CREATE INDEX idx_email ON users(email);\n",
    "\n",
    " You’re telling MySQL:\n",
    " “Create a quick lookup structure for the email column in the users table”."
   ]
  },
  {
   "cell_type": "markdown",
   "id": "b30d90c8-6da7-4319-b33a-24d0d3f4f0f0",
   "metadata": {},
   "source": [
    "2. Multi-column (Composite) Index\n",
    "\n",
    "  CREATE INDEX idx_name_city ON users(name, city);\n",
    "\n",
    "  This is useful when your query filters on both names and city in the specific order."
   ]
  },
  {
   "cell_type": "markdown",
   "id": "67118bee-a8bf-4690-8332-fa80281ef5e3",
   "metadata": {},
   "source": [
    "How to Delete (Drop) an Index\n",
    "\n",
    " DROP INDEX idx_email ON users;\n",
    "\n",
    " You’re saying:\n",
    "\n",
    "“Remove the index named idx_email from the users table.”"
   ]
  },
  {
   "cell_type": "markdown",
   "id": "170e022d-6dc0-4949-bd67-5a0188947386",
   "metadata": {},
   "source": [
    " When to Use Indexes\n",
    " Use indexes when:\n",
    " • A column is often used in WHERE , JOIN , or Order by Clauses \n",
    " • You’re searching by unique fields like email, username or ID\n",
    " • You’re filtering large tables for specific values regularly\n",
    " • You want to improve performance of lookups and joins.\n"
   ]
  },
  {
   "cell_type": "code",
   "execution_count": null,
   "id": "0eb02b7b-172d-4009-9269-86a2bbc113f7",
   "metadata": {},
   "outputs": [],
   "source": [
    "When Not to Use Indexes\n",
    " Avoid adding indexes when:\n",
    "\n",
    "• The table is small (MySQL can scan it quickly anyway).\n",
    "• The column is rarely used in searches or filtering.\n",
    "• You’re indexing a column with very few unique values (like a gender field with just 'M' and 'F' ).\n",
    "• You’re inserting or updating very frequently—indexes can slow down writes\n",
    " because they also need to be update.\n"
   ]
  },
  {
   "cell_type": "markdown",
   "id": "eccbc9f4-407f-46e0-9b30-1fd4de642431",
   "metadata": {},
   "source": [
    " Viewing Existing Indexes\n",
    "\n",
    " To list all indexes on a table:\n",
    " SHOW INDEX FROM users;\n"
   ]
  },
  {
   "cell_type": "markdown",
   "id": "6626654c-bbce-4c52-9b2e-a306393b5e61",
   "metadata": {},
   "source": [
    "Summary:\n",
    "\n",
    " Action                                             Syntax Example\n",
    "\n",
    "Create index                                        CREATE INDEX idx_name ON table(column);\n",
    "Delete index                                         DROP INDEX idx_name ON table;\n",
    "List indexes                                         SHOW INDEX FROM table;\n"
   ]
  },
  {
   "cell_type": "markdown",
   "id": "4aa65635-9cf6-4167-a43c-ee2120b0f525",
   "metadata": {},
   "source": [
    " Indexes are essential for performance, but overusing them or indexing the wrong\n",
    " columns can actually hurt performance. Use them wisely based on how your data is\n",
    " queried.\n"
   ]
  }
 ],
 "metadata": {
  "kernelspec": {
   "display_name": "Python [conda env:base] *",
   "language": "python",
   "name": "conda-base-py"
  },
  "language_info": {
   "codemirror_mode": {
    "name": "ipython",
    "version": 3
   },
   "file_extension": ".py",
   "mimetype": "text/x-python",
   "name": "python",
   "nbconvert_exporter": "python",
   "pygments_lexer": "ipython3",
   "version": "3.12.7"
  }
 },
 "nbformat": 4,
 "nbformat_minor": 5
}
