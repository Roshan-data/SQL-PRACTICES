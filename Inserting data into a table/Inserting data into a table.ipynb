{
 "cells": [
  {
   "cell_type": "markdown",
   "id": "cba8be1d-6f49-4443-9e18-58d2b2726e2e",
   "metadata": {},
   "source": [
    " Inserting data into a MySQL table can be done in two ways: inserting one row at a\n",
    " time or inserting multiple rows at once. Below are the steps to create a new\n",
    " database, create a table, and insert data into it."
   ]
  },
  {
   "cell_type": "markdown",
   "id": "b01964fb-c776-4205-9fb6-3be79db03d2f",
   "metadata": {},
   "source": [
    "1. Create a New Database\n",
    "\n",
    "* CREATE DATABASE schooldb;"
   ]
  },
  {
   "cell_type": "markdown",
   "id": "f98f181c-23cd-46dd-9915-97d50a12ea85",
   "metadata": {},
   "source": [
    "2. Select the Database\n",
    "\n",
    "* USE schooldb;"
   ]
  },
  {
   "cell_type": "markdown",
   "id": "857b2bca-77cd-468e-8df4-b6fadb7a6694",
   "metadata": {},
   "source": [
    "3. Create the student Table\n",
    "\n",
    " CREATE TABLE student (\n",
    "  id INT PRIMARY KEY,\n",
    "    name VARCHAR(100),\n",
    "    age INT,\n",
    "    grade VARCHAR(10),\n",
    "    date_of_birth DATE\n",
    " );\n"
   ]
  },
  {
   "cell_type": "markdown",
   "id": "16107794-b6e5-468a-aba9-dc66c5bc5e0d",
   "metadata": {},
   "source": [
    "4. Insert Data into the Table\n",
    "\n",
    " Insert One Row at a Time\n",
    "\n",
    " INSERT INTO student (id, name, age, grade, date_of_birth) VALUES (1, 'Ayesha Khan',\n",
    " 16, '10th', '2007-05-15');\n",
    " INSERT INTO student (id, name, age, grade, date_of_birth) VALUES (2, 'Ravi Sharma',\n",
    " 17, '11th', '2006-03-22');\n",
    " INSERT INTO student (id, name, age, grade, date_of_birth) VALUES (3, 'Meena Joshi',\n",
    " 15, '9th', NULL);\n",
    " INSERT INTO student (id, name, age, grade, date_of_birth) VALUES (4, 'Arjun Verma',\n",
    " 18, '12th', NULL);\n",
    " INSERT INTO student (id, name, age, grade, date_of_birth) VALUES (5, 'Sara Ali',\n",
    " 16, '10th', NULL);"
   ]
  },
  {
   "cell_type": "markdown",
   "id": "993c8f20-ab51-46f9-b9a5-211b360ccb88",
   "metadata": {},
   "source": [
    "5. Insert All Rows at Once\n",
    "\n",
    " INSERT INTO student (id, name, age, grade) VALUES\n",
    "\n",
    " (15, 'Ayesha Khan', 16, '10th'),\n",
    " (25, 'Ravi Sharma', 17, '11th'),\n",
    " (35, 'Meena Joshi', 15, '9th'),\n",
    " (45, 'Arjun Verma', 18, '12th'),\n",
    " (55, 'Sara Ali', 16, '10th'),\n",
    " (65, 'Karan Mehta', 17, '11th'),\n",
    " (75, 'Tanya Roy', 15, '9th');\n"
   ]
  },
  {
   "cell_type": "markdown",
   "id": "5167e8c5-6eda-464e-bc3f-19f450807f7e",
   "metadata": {},
   "source": [
    " 6. Verify the Inserted Records\n",
    "\n",
    " To check all the data in the table:\n",
    "\n",
    "  SELECT * FROM student;"
   ]
  },
  {
   "cell_type": "markdown",
   "id": "8142f9e8-f643-4fc5-9857-b0ab8cb8bf8e",
   "metadata": {},
   "source": [
    "This will display all the records in the \n",
    "student table"
   ]
  }
 ],
 "metadata": {
  "kernelspec": {
   "display_name": "Python [conda env:base] *",
   "language": "python",
   "name": "conda-base-py"
  },
  "language_info": {
   "codemirror_mode": {
    "name": "ipython",
    "version": 3
   },
   "file_extension": ".py",
   "mimetype": "text/x-python",
   "name": "python",
   "nbconvert_exporter": "python",
   "pygments_lexer": "ipython3",
   "version": "3.12.7"
  }
 },
 "nbformat": 4,
 "nbformat_minor": 5
}
