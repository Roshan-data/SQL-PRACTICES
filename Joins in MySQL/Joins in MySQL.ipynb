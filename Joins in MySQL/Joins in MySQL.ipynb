{
 "cells": [
  {
   "cell_type": "markdown",
   "id": "22efd901-7dd5-4a5c-80cd-250cb1148ffa",
   "metadata": {},
   "source": [
    "MySQL Joins\n",
    "\n",
    " When we have data split across multiple tables, we use joins to combine that data\n",
    " and get the full picture.\n",
    "     \n",
    " Let’s say we have two tables:\n",
    "students\n",
    " id                                                 name\n",
    " 1                                                  Alice\n",
    " 2                                                  Bob\n",
    "\n",
    " marks     \n",
    "student_id                                      subject                                      Score\n",
    " 1                                                Math                                        95\n",
    " 2                                                Math                                        90\n",
    " 2                                               Science                                      88\n",
    "     \n",
    "Now let’s see the most common types of joins."
   ]
  },
  {
   "cell_type": "markdown",
   "id": "e11c2e32-9d37-4eee-8aa4-6ed49469fc51",
   "metadata": {},
   "source": [
    " 1. INNER JOIN\n",
    " \n",
    " We are telling MySQL to include only the rows that have matching values in both\n",
    " tables.\n",
    "\n",
    " SELECT students.name, marks.subject, marks.score\n",
    " FROM students\n",
    " INNER JOIN marks ON students.id = marks.student_id;\n",
    "\n",
    "This will show only students who have marks recorded. If a student has no marks,\n",
    " they will not appear in the result."
   ]
  },
  {
   "cell_type": "markdown",
   "id": "6c6b0d8d-f8f3-4c48-b638-adbaa1be4b05",
   "metadata": {},
   "source": [
    "2. LEFT JOIN (or LEFT OUTER JOIN)\n",
    "\n",
    " We are telling MySQL to include all students, even if they don’t have any marks.\n",
    " If there’s no match in the  marks table, it will show \n",
    "\n",
    " SELECT students.name, marks.subject, marks.score\n",
    " FROM students NULL  \n",
    " LEFT JOIN marks ON students.id = marks.student_id;\n",
    "\n",
    " This is useful when we want to list all students, and show marks only if available."
   ]
  },
  {
   "cell_type": "markdown",
   "id": "40d73c74-a86e-4390-862f-4c8f8df95a9f",
   "metadata": {},
   "source": [
    " 3. RIGHT JOIN (or RIGHT OUTER JOIN)\n",
    "\n",
    " We are telling MySQL to include all rows from the right table  (marks), even if the students is missing from the students class\n",
    "\n",
    " SELECT students.name, marks.subject, marks.score\n",
    " FROM students\n",
    " RIGHT JOIN marks ON students.id = marks.student_id;\n",
    "\n",
    "This is rarely used unless we expect some marks that don’t have a student record."
   ]
  },
  {
   "cell_type": "markdown",
   "id": "0ea7e0db-0ff0-49b6-a289-ed01c427d08d",
   "metadata": {},
   "source": [
    "4. CROSS JOIN\n",
    "\n",
    " We are telling MySQL to combine every row in the first table with every row in the\n",
    " second table.\n",
    "\n",
    "SELECT students.name, marks.subject\n",
    " FROM students\n",
    " CROSS JOIN marks;\n",
    "\n",
    " Use this only when you really want all combinations – it can produce a lot of rows."
   ]
  },
  {
   "cell_type": "markdown",
   "id": "19ed4a75-1a3d-4ad7-ab6c-36fa048c3728",
   "metadata": {},
   "source": [
    "Summary\n",
    "\n",
    " Join Type                                       What it does   \n",
    " INNER JOIN                                  Only rows with a match in both tables\n",
    " LEFT JOIN                                   All rows from the left table, with matched data if any\n",
    " RIGHT JOIN                                  All rows from the right table, with matched data if any\n",
    " CROSS JOIN                                   All combinations of rows from both tables\n"
   ]
  }
 ],
 "metadata": {
  "kernelspec": {
   "display_name": "Python [conda env:base] *",
   "language": "python",
   "name": "conda-base-py"
  },
  "language_info": {
   "codemirror_mode": {
    "name": "ipython",
    "version": 3
   },
   "file_extension": ".py",
   "mimetype": "text/x-python",
   "name": "python",
   "nbconvert_exporter": "python",
   "pygments_lexer": "ipython3",
   "version": "3.12.7"
  }
 },
 "nbformat": 4,
 "nbformat_minor": 5
}
