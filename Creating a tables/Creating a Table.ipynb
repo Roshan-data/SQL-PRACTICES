{
 "cells": [
  {
   "cell_type": "markdown",
   "id": "583bdff8-5435-4427-a7f7-ea4dcf3e27a8",
   "metadata": {},
   "source": [
    "Creating a Table in MySQL\n",
    "\n",
    " Once you have selected a database, you can create tables to organize and store\n",
    " data.\n",
    "\n",
    " Syntax\n",
    "\n",
    "  * CREATE TABLE table_name (\n",
    "  column1 datatype constraints,\n",
    "  column2 datatype constraints,\n",
    " ...\n",
    " );\n"
   ]
  },
  {
   "cell_type": "markdown",
   "id": "0de1fb19-562f-4a52-b7bd-99a155b8c801",
   "metadata": {},
   "source": [
    "Example:\n",
    "\n",
    " CREATE TABLE students (\n",
    " id INT AUTO_INCREMENT PRIMARY KEY,\n",
    "  name VARCHAR(100) NOT NULL DEFAULT 'No Name',\n",
    "  age INT,\n",
    "  email VARCHAR(100) UNIQUE,\n",
    "  admission_date DATE\n",
    "\n",
    " );"
   ]
  },
  {
   "cell_type": "markdown",
   "id": "ba85ac64-4c9a-4162-81f9-52d983ca3a97",
   "metadata": {},
   "source": [
    " Explanation:\n",
    "\n",
    " •  id INT AUTO_INCREMENT PRIMARY KEY – A unique identifier for each student\n",
    "    that auto-increments.\n",
    " •  name VARCHAR(100) NOT NULL – Name must be provided.\n",
    " •  age INT – Stores numeric values for age.\n",
    " •  email VARCHAR(100) UNIQUE – Each email must be different\n",
    " •  admission_date DATE – Stores the date of admission.\n"
   ]
  },
  {
   "cell_type": "code",
   "execution_count": null,
   "id": "b2f3652f-8ae5-4078-88d6-747f37dd92ed",
   "metadata": {},
   "outputs": [],
   "source": [
    "Commonly Used Data Types\n",
    "\n",
    "• INT – Whole numbers (e.g., age, quantity)\n",
    "• VARCHAR(n) – Variable-length string (e.g., names, emails)\n",
    "• DATE – Stores date values (YYYY-MM-DD)\n",
    "• TEXT – Long text strings (e.g., descriptions)\n",
    "• DATETIME – Stores date and time values\n",
    "• BOOLEAN – Stores TRUE or FALSE\n"
   ]
  },
  {
   "cell_type": "markdown",
   "id": "578d2d02-51c6-4a9a-9b99-1866a4df8b48",
   "metadata": {},
   "source": [
    "Common Constraints\n",
    "\n",
    " • PRIMARY KEY – Uniquely identifies each record\n",
    " • NOT NULL – Ensures the column cannot be left empty\n",
    " • UNIQUE – Ensures all values in a column are different\n",
    " • AUTO_INCREMENT – Automatically increases numeric values\n",
    " • DEFAULT – Sets a default value for the column\n",
    " • FOREIGN KEY – Enforces relationships between tables\n"
   ]
  },
  {
   "cell_type": "markdown",
   "id": "fceeb6b4-47ea-4817-ba82-6f732f596f64",
   "metadata": {},
   "source": [
    " View All Tables\n",
    "\n",
    "  * SHOW TABLES;"
   ]
  },
  {
   "cell_type": "markdown",
   "id": "aeafdef1-79f6-4c7c-a452-6db0eba9e38d",
   "metadata": {},
   "source": [
    " View Table Structure\n",
    "\n",
    "  * DESCRIBE students;"
   ]
  },
  {
   "cell_type": "markdown",
   "id": "c3a61381-8c94-47eb-8758-528c00ef66e2",
   "metadata": {},
   "source": [
    " Viewing Table Data\n",
    "\n",
    "  * SELECT * FROM students;"
   ]
  },
  {
   "cell_type": "markdown",
   "id": "50b61a77-9b14-4c5d-af54-d256e1b7585b",
   "metadata": {},
   "source": [
    "Tables are the backbone of any relational database. A well-structured table leads to\n",
    " efficient data management and fewer issues later on."
   ]
  }
 ],
 "metadata": {
  "kernelspec": {
   "display_name": "Python [conda env:base] *",
   "language": "python",
   "name": "conda-base-py"
  },
  "language_info": {
   "codemirror_mode": {
    "name": "ipython",
    "version": 3
   },
   "file_extension": ".py",
   "mimetype": "text/x-python",
   "name": "python",
   "nbconvert_exporter": "python",
   "pygments_lexer": "ipython3",
   "version": "3.12.7"
  }
 },
 "nbformat": 4,
 "nbformat_minor": 5
}
