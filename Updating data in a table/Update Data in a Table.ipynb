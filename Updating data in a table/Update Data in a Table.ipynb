{
 "cells": [
  {
   "cell_type": "markdown",
   "id": "b599093d-b048-425d-b78d-ab0cc6cdec01",
   "metadata": {},
   "source": [
    " How to Update Data in a MySQL Table\n",
    "\n",
    " Today we will learn about how to modify existing data in a table using the UPDATE statement. We will see how to use the \n",
    " SET keyword and how to use the WHERE clause to target specific rows\n"
   ]
  },
  {
   "cell_type": "markdown",
   "id": "a4b12644-9d2c-4549-9939-5c5a3ebd0b13",
   "metadata": {},
   "source": [
    "1. Basic Syntax\n",
    "\n",
    " UPDATE table_name\n",
    " SET column1 = value1, column2 = value2, ...\n",
    " WHERE condition; \n",
    "\n",
    "• UPDATE : Specifies the table you want to modify.\n",
    "•  SET : Assigns new values to columns.\n",
    "•  WHERE : Filters which rows should be updated. Always include a WHERE\n",
    "          clause unless you want to update all rows.\n"
   ]
  },
  {
   "cell_type": "markdown",
   "id": "9b2014f5-cdd2-476e-b4d8-a9ba60cae564",
   "metadata": {},
   "source": [
    " 2. Example Table\n",
    "\n",
    "Assume the following student Table:\n",
    "\n",
    "id                   name                         age                      grade\n",
    "1                 Roshan kumar                     19                        12th\n",
    "2                 Yash Thakur                      20                        12th\n",
    "3                 Ujjwal Singh                     20                        12th\n",
    "4                Abhinav Trivedi                   19                        12th"
   ]
  },
  {
   "cell_type": "markdown",
   "id": "0cbcc637-f1e3-449d-8046-85e7d72d38b9",
   "metadata": {},
   "source": [
    "3. Update a Single Row\n",
    "\n",
    "Example: Change the grade of student with id = 2 to 12th\n",
    "  UPDATE student\n",
    " SET grade = '12th'\n",
    " WHERE id = 2; \n",
    " "
   ]
  },
  {
   "cell_type": "markdown",
   "id": "b4670864-bd04-4a95-99fe-52b9fb2f5259",
   "metadata": {},
   "source": [
    "4. Update Multiple Columns\n",
    "\n",
    " Example: Change age to 17 and grade to ‘10th’ for id = 3\n",
    "  UPDATE student\n",
    "  SET age = 17, grade = '10th'\n",
    "  WHERE id = 3;\n"
   ]
  },
  {
   "cell_type": "markdown",
   "id": "7271d727-cee6-437f-bf8d-95fbae6cbbd1",
   "metadata": {},
   "source": [
    " 5. Update All Rows\n",
    "\n",
    " Be careful when updating without a WHERE clause.\n",
    " Example: Set all students to age 18\n",
    " UPDATE student\n",
    " SET age = 18;\n",
    "\n",
    "Warning: This will modify every row in the table."
   ]
  },
  {
   "cell_type": "markdown",
   "id": "6e124fac-0734-4cfe-9ea3-a70d764f960a",
   "metadata": {},
   "source": [
    "6. Conditional Update with Comparison Operators\n",
    "\n",
    " Example: Promote all students in 9th grade to 10th grade\n",
    " UPDATE student\n",
    " SET grade = '10th'\n",
    " WHERE grade = '9th';\n",
    "\n",
    " Example: Increase age by 1 for students younger than 18\n",
    " UPDATE student\n",
    " SET age = age + 1\n",
    " WHERE age < 18;"
   ]
  },
  {
   "cell_type": "markdown",
   "id": "3658c4f6-d97a-45ef-b7e2-46f272ac20e9",
   "metadata": {},
   "source": [
    " 7. Update Using IS NULL\n",
    "\n",
    "Example: Set default grade to ‘Unknown’ where grade is NULL\n",
    " UPDATE student\n",
    " SET grade = 'Unknown'\n",
    " WHERE grade IS NULL;\n"
   ]
  },
  {
   "cell_type": "markdown",
   "id": "52355dc6-c1ca-4b17-a1c3-9f9173a4d168",
   "metadata": {},
   "source": [
    "8. Verify the Update\n",
    "\n",
    " To check the results:\n",
    " SELECT * FROM student;\n"
   ]
  }
 ],
 "metadata": {
  "kernelspec": {
   "display_name": "Python [conda env:base] *",
   "language": "python",
   "name": "conda-base-py"
  },
  "language_info": {
   "codemirror_mode": {
    "name": "ipython",
    "version": 3
   },
   "file_extension": ".py",
   "mimetype": "text/x-python",
   "name": "python",
   "nbconvert_exporter": "python",
   "pygments_lexer": "ipython3",
   "version": "3.12.7"
  }
 },
 "nbformat": 4,
 "nbformat_minor": 5
}
