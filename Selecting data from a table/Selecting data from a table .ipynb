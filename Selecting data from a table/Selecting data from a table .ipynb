{
 "cells": [
  {
   "cell_type": "markdown",
   "id": "74a0a70e-83c2-434d-936e-4de23e01f521",
   "metadata": {},
   "source": [
    "How to Select Data in MySQL\n",
    "\n",
    " Lets now understand how to query data from a table in MySQL using the SELECT statement, filter results using the \n",
    " WHERE clause, and apply different comparison operators including how to work with NULL values."
   ]
  },
  {
   "cell_type": "markdown",
   "id": "27b6898f-659d-4f39-b5dd-4a4254c4fe13",
   "metadata": {},
   "source": [
    "1. Basic SELECT Statement\n",
    "\n",
    " To retrieve all data from the  student table:\n",
    "\n",
    " SELECT * FROM student;\n",
    "\n",
    "\n",
    " To retrieve specific columns (e.g., only name and  grade ):\n",
    "\n",
    "* SELECT name, grade FROM student;"
   ]
  },
  {
   "cell_type": "markdown",
   "id": "03bc274e-cce5-41aa-992c-95a819c299c5",
   "metadata": {},
   "source": [
    "2. Using the WHERE Clause\n",
    "\n",
    " The WHERE clause is used to filter rows based on a condition\n",
    "\n",
    " Example: Students in 10th grade\n",
    " SELECT * FROM student WHERE grade = '10th';\n",
    "\n",
    " Example: Students older than 16\n",
    " SELECT * FROM student WHERE age >16;"
   ]
  },
  {
   "cell_type": "markdown",
   "id": "0b6580a2-042a-4491-acf3-f8d4fbdfc765",
   "metadata": {},
   "source": [
    "3. Comparison Operators in MySQL\n",
    "\n",
    " Operator                                        Description                                          Example\n",
    "   =                                                Equals                                         WHERE age = 16\n",
    "  !=                                              Not equal to                                   WHERE grade != '12th'\n",
    "  <>                                              Not equal to (alternative)                     WHERE grade <> '12th'\n",
    "  >                                               Greater than                                      WHERE age > 16\n",
    "  <                                              Less than                                          WHERE age < 17\n",
    "  >=                                             Greater than or equal to                           WHERE age >= 16\n",
    " <=                                              Less than or equal to                             WHERE age <= 18\n",
    " BETWEEN                                         Within a range (inclusive)                      WHERE age BETWEEN 15 AND 17\n",
    "  IN                                             Matches any in a list                           WHERE grade IN ('10th', '12th')\n",
    " NOT IN                                            Excludes list items                            WHERE grade NOT IN ('9th','11th')\n",
    " LIKE                                             Pattern matching                                 WHERE name LIKE 'A%'(names                                                                                                                             starting with A)\n",
    " NOT LIKE                                         Pattern not matching                             WHERE name NOT LIKE '%a' (names                                                                                                                        not ending in a)"
   ]
  },
  {
   "cell_type": "markdown",
   "id": "280ad862-d5a6-46d8-a5d3-8cf4ce4b29b6",
   "metadata": {},
   "source": [
    "4. Handling NULL Values\n",
    "\n",
    " What is NULL ?\n",
    " NULL represents missing or unknown values. It is not equal to  0 , empty string, or any other value.\n",
    "\n",
    " Common Mistake (Incorrect):-- This will not work as expected\n",
    " SELECT * FROM student WHERE grade = NULL;\n",
    "\n",
    "Correct Ways to Handle NULL\n",
    "  Condition                                                                          Correct Syntax\n",
    " Is NULL                                                                            WHERE grade IS NULL\n",
    " Is NOT NULL                                                                        WHERE grade IS NOT NULL\n",
    "\n",
    " Example: Select students with no grade assigned\n",
    " SELECT * FROM student WHERE grade IS NULL;\n",
    "\n",
    " Example: Select students who have a grade\n",
    " SELECT * FROM student WHERE grade IS NOT NULL;"
   ]
  },
  {
   "cell_type": "markdown",
   "id": "0549742d-4465-4c6e-9a70-697f164d4256",
   "metadata": {},
   "source": [
    " 5. Combining Conditions\n",
    " You can use AND , OR , and parentheses to combine conditions.\n",
    "\n",
    " Example: Students in 10th grade and older than 16\n",
    " SELECT * FROM student WHERE grade = '10th' AND age > 16;\n",
    "\n",
    " Example: Students in 9th or 12th grade\n",
    " SELECT * FROM student WHERE grade = '9th' OR grade = '12th';\n",
    "\n",
    " Example: Complex conditions\n",
    " SELECT * FROM student \n",
    " WHERE (grade = '10th' OR grade = '11th') AND age >= 16;"
   ]
  },
  {
   "cell_type": "markdown",
   "id": "72957a98-5a2d-4dbc-a3de-4e329479d386",
   "metadata": {},
   "source": [
    " 6. Sorting Results with ORDER BY\n",
    "\n",
    " Sort by age in ascending order:\n",
    " SELECT * FROM student ORDER BY age ASC;\n",
    "\n",
    " Sort by name in descending order:\n",
    " SELECT * FROM student ORDER BY name DESC;"
   ]
  },
  {
   "cell_type": "markdown",
   "id": "5337e8e2-fe9a-428e-bc1d-620e7b7e5a18",
   "metadata": {},
   "source": [
    "7. Limiting Results with LIMIT\n",
    "\n",
    " Get only 5 rows:\n",
    " SELECT * FROM student LIMIT 5;\n",
    "\n",
    "Get 5 rows starting from the 3rd (offset 2):\n",
    " SELECT * FROM student LIMIT 2, 5;\n",
    "\n",
    "You’re right! The _ wildcard is very handy for matching dates, especially when\n",
    " you’re looking for values at a specific position (like a specific day or month). Let’s\n",
    " expand the section accordingly:"
   ]
  },
  {
   "cell_type": "markdown",
   "id": "ee6c34b9-dd90-4b99-b647-86ef4bfa02f8",
   "metadata": {},
   "source": [
    " 8. Using Wildcards with LIKE\n",
    "\n",
    " Wildcards are used with the LIKE operator to search for patterns. They’re helpful\n",
    " when you’re not exactly sure about the full value, or you want to match based on\n",
    " structure or partial content.\n",
    "\n",
    "There are two wildcards in MySQL:\n",
    " • % – Matches zero or more characters\n",
    " •  _ – Matches exactly one character\n"
   ]
  },
  {
   "cell_type": "markdown",
   "id": "b4bd489b-7adc-4bb8-bbe1-7ff364f473cd",
   "metadata": {},
   "source": [
    "Example: Names starting with  'A'\n",
    "\n",
    " SELECT * FROM students\n",
    " WHERE name LIKE 'A%';\n",
    "\n",
    " This finds any name that starts with ‘A’, like Aakash , Ananya , Aryan ."
   ]
  },
  {
   "cell_type": "markdown",
   "id": "bf6dbc3d-c2ee-4e9a-8897-20be01ebfc57",
   "metadata": {},
   "source": [
    " Matching Dates with _ Wildcard\n",
    "\n",
    "The _  wildcard is useful for matching specific patterns in date strings, especially in\n",
    " YYYY-MM-DD format.\n",
    "     \n",
    " Let’s say you want to find records from the 5th day of any month:\n",
    "\n",
    "SELECT * FROM attendance\n",
    " WHERE date LIKE '____-__-05';\n",
    "\n",
    " Explanation:\n",
    "• ____ matches any year (4 characters)\n",
    "• __ matches any month (2 characters)\n",
    "•  05 is the 5th day\n",
    "\n",
    " You’re basically telling MySQL: “Give me all rows where the date ends with any month, any year.”"
   ]
  },
  {
   "cell_type": "markdown",
   "id": "cb3bb765-5d26-4926-8cb6-41c51dcfa725",
   "metadata": {},
   "source": [
    " More Date Pattern Examples\n",
    "\n",
    "Pattern to be Matched                                                                 Matches\n",
    "'2025-05-%'                                                                      Any day in May 2025\n",
    " '2024-12-__'                                                            All 2-digit days in December 2024\n",
    " '____-01-01'                                                                     1st January of any year\n",
    " '202_-__-__'                                                                 Any date in the 2020s decade\n",
    " '____-__-3_'                                                        All dates from day 30 to 39 (not valid, but works syntactically)\n",
    " "
   ]
  },
  {
   "cell_type": "markdown",
   "id": "b0ae1aef-fa94-498d-9bda-76f430eb6142",
   "metadata": {},
   "source": [
    "Quick Recap: LIKE  Wildcard Matching\n",
    "\n",
    " Pattern                                                              Meaning\n",
    " 'A%'                                                              Starts with A\n",
    " '%sh'                                                              Ends with sh\n",
    " '%ar%'                                                           Contains “ar”\n",
    " 'R____'                                                       5-letter name starting with R\n",
    " '____-__-05'                                                       Dates with day = 05\n"
   ]
  }
 ],
 "metadata": {
  "kernelspec": {
   "display_name": "Python [conda env:base] *",
   "language": "python",
   "name": "conda-base-py"
  },
  "language_info": {
   "codemirror_mode": {
    "name": "ipython",
    "version": 3
   },
   "file_extension": ".py",
   "mimetype": "text/x-python",
   "name": "python",
   "nbconvert_exporter": "python",
   "pygments_lexer": "ipython3",
   "version": "3.12.7"
  }
 },
 "nbformat": 4,
 "nbformat_minor": 5
}
